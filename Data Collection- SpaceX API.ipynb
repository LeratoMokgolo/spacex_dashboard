{
 "cells": [
  {
   "cell_type": "code",
   "execution_count": 3,
   "id": "bece3400-ca7a-4861-bc1b-76d4890b1e8f",
   "metadata": {},
   "outputs": [
    {
     "name": "stdout",
     "output_type": "stream",
     "text": [
      "Requirement already satisfied: requests in /opt/anaconda3/lib/python3.12/site-packages (2.32.3)\n",
      "Requirement already satisfied: pandas in /opt/anaconda3/lib/python3.12/site-packages (2.2.2)\n",
      "Requirement already satisfied: charset-normalizer<4,>=2 in /opt/anaconda3/lib/python3.12/site-packages (from requests) (3.3.2)\n",
      "Requirement already satisfied: idna<4,>=2.5 in /opt/anaconda3/lib/python3.12/site-packages (from requests) (3.7)\n",
      "Requirement already satisfied: urllib3<3,>=1.21.1 in /opt/anaconda3/lib/python3.12/site-packages (from requests) (2.2.3)\n",
      "Requirement already satisfied: certifi>=2017.4.17 in /opt/anaconda3/lib/python3.12/site-packages (from requests) (2025.1.31)\n",
      "Requirement already satisfied: numpy>=1.26.0 in /opt/anaconda3/lib/python3.12/site-packages (from pandas) (1.26.4)\n",
      "Requirement already satisfied: python-dateutil>=2.8.2 in /opt/anaconda3/lib/python3.12/site-packages (from pandas) (2.9.0.post0)\n",
      "Requirement already satisfied: pytz>=2020.1 in /opt/anaconda3/lib/python3.12/site-packages (from pandas) (2024.1)\n",
      "Requirement already satisfied: tzdata>=2022.7 in /opt/anaconda3/lib/python3.12/site-packages (from pandas) (2023.3)\n",
      "Requirement already satisfied: six>=1.5 in /opt/anaconda3/lib/python3.12/site-packages (from python-dateutil>=2.8.2->pandas) (1.16.0)\n"
     ]
    }
   ],
   "source": [
    "!pip install requests pandas"
   ]
  },
  {
   "cell_type": "code",
   "execution_count": 5,
   "id": "ddbf6404-ea1e-4ca9-8644-53f2bd82947f",
   "metadata": {},
   "outputs": [],
   "source": [
    "import requests\n",
    "import pandas as pd\n"
   ]
  },
  {
   "cell_type": "code",
   "execution_count": 7,
   "id": "33697720-e453-474d-80fe-cc544c1b09a3",
   "metadata": {},
   "outputs": [],
   "source": [
    "spacex_url = \"https://api.spacexdata.com/v4/launches/past\"\n"
   ]
  },
  {
   "cell_type": "code",
   "execution_count": 9,
   "id": "03595734-6326-497e-8b26-e828766b3ff4",
   "metadata": {},
   "outputs": [
    {
     "name": "stdout",
     "output_type": "stream",
     "text": [
      "Data successfully retrieved!\n"
     ]
    }
   ],
   "source": [
    "response = requests.get(spacex_url)\n",
    "\n",
    "# Check if the request was successful (Status Code 200)\n",
    "if response.status_code == 200:\n",
    "    data = response.json()  # Convert response to JSON format\n",
    "    print(\"Data successfully retrieved!\")\n",
    "else:\n",
    "    print(\"Failed to retrieve data. Status code:\", response.status_code)\n"
   ]
  },
  {
   "cell_type": "code",
   "execution_count": 11,
   "id": "84579fd4-cb39-4b86-981a-312bde7b44fc",
   "metadata": {},
   "outputs": [
    {
     "data": {
      "text/html": [
       "<div>\n",
       "<style scoped>\n",
       "    .dataframe tbody tr th:only-of-type {\n",
       "        vertical-align: middle;\n",
       "    }\n",
       "\n",
       "    .dataframe tbody tr th {\n",
       "        vertical-align: top;\n",
       "    }\n",
       "\n",
       "    .dataframe thead th {\n",
       "        text-align: right;\n",
       "    }\n",
       "</style>\n",
       "<table border=\"1\" class=\"dataframe\">\n",
       "  <thead>\n",
       "    <tr style=\"text-align: right;\">\n",
       "      <th></th>\n",
       "      <th>Mission Name</th>\n",
       "      <th>Launch Date</th>\n",
       "      <th>Rocket ID</th>\n",
       "      <th>Launch Site</th>\n",
       "      <th>Payload Mass (kg)</th>\n",
       "      <th>Success</th>\n",
       "    </tr>\n",
       "  </thead>\n",
       "  <tbody>\n",
       "    <tr>\n",
       "      <th>0</th>\n",
       "      <td>FalconSat</td>\n",
       "      <td>2006-03-24T22:30:00.000Z</td>\n",
       "      <td>5e9d0d95eda69955f709d1eb</td>\n",
       "      <td>5e9e4502f5090995de566f86</td>\n",
       "      <td>5eb0e4b5b6c3bb0006eeb1e1</td>\n",
       "      <td>False</td>\n",
       "    </tr>\n",
       "    <tr>\n",
       "      <th>1</th>\n",
       "      <td>DemoSat</td>\n",
       "      <td>2007-03-21T01:10:00.000Z</td>\n",
       "      <td>5e9d0d95eda69955f709d1eb</td>\n",
       "      <td>5e9e4502f5090995de566f86</td>\n",
       "      <td>5eb0e4b6b6c3bb0006eeb1e2</td>\n",
       "      <td>False</td>\n",
       "    </tr>\n",
       "    <tr>\n",
       "      <th>2</th>\n",
       "      <td>Trailblazer</td>\n",
       "      <td>2008-08-03T03:34:00.000Z</td>\n",
       "      <td>5e9d0d95eda69955f709d1eb</td>\n",
       "      <td>5e9e4502f5090995de566f86</td>\n",
       "      <td>5eb0e4b6b6c3bb0006eeb1e3</td>\n",
       "      <td>False</td>\n",
       "    </tr>\n",
       "    <tr>\n",
       "      <th>3</th>\n",
       "      <td>RatSat</td>\n",
       "      <td>2008-09-28T23:15:00.000Z</td>\n",
       "      <td>5e9d0d95eda69955f709d1eb</td>\n",
       "      <td>5e9e4502f5090995de566f86</td>\n",
       "      <td>5eb0e4b7b6c3bb0006eeb1e5</td>\n",
       "      <td>True</td>\n",
       "    </tr>\n",
       "    <tr>\n",
       "      <th>4</th>\n",
       "      <td>RazakSat</td>\n",
       "      <td>2009-07-13T03:35:00.000Z</td>\n",
       "      <td>5e9d0d95eda69955f709d1eb</td>\n",
       "      <td>5e9e4502f5090995de566f86</td>\n",
       "      <td>5eb0e4b7b6c3bb0006eeb1e6</td>\n",
       "      <td>True</td>\n",
       "    </tr>\n",
       "  </tbody>\n",
       "</table>\n",
       "</div>"
      ],
      "text/plain": [
       "  Mission Name               Launch Date                 Rocket ID  \\\n",
       "0    FalconSat  2006-03-24T22:30:00.000Z  5e9d0d95eda69955f709d1eb   \n",
       "1      DemoSat  2007-03-21T01:10:00.000Z  5e9d0d95eda69955f709d1eb   \n",
       "2  Trailblazer  2008-08-03T03:34:00.000Z  5e9d0d95eda69955f709d1eb   \n",
       "3       RatSat  2008-09-28T23:15:00.000Z  5e9d0d95eda69955f709d1eb   \n",
       "4     RazakSat  2009-07-13T03:35:00.000Z  5e9d0d95eda69955f709d1eb   \n",
       "\n",
       "                Launch Site         Payload Mass (kg) Success  \n",
       "0  5e9e4502f5090995de566f86  5eb0e4b5b6c3bb0006eeb1e1   False  \n",
       "1  5e9e4502f5090995de566f86  5eb0e4b6b6c3bb0006eeb1e2   False  \n",
       "2  5e9e4502f5090995de566f86  5eb0e4b6b6c3bb0006eeb1e3   False  \n",
       "3  5e9e4502f5090995de566f86  5eb0e4b7b6c3bb0006eeb1e5    True  \n",
       "4  5e9e4502f5090995de566f86  5eb0e4b7b6c3bb0006eeb1e6    True  "
      ]
     },
     "execution_count": 11,
     "metadata": {},
     "output_type": "execute_result"
    }
   ],
   "source": [
    "# Extract relevant fields from API response\n",
    "launch_data = []\n",
    "\n",
    "for launch in data:\n",
    "    launch_data.append({\n",
    "        \"Mission Name\": launch[\"name\"],\n",
    "        \"Launch Date\": launch[\"date_utc\"],\n",
    "        \"Rocket ID\": launch[\"rocket\"],\n",
    "        \"Launch Site\": launch[\"launchpad\"],\n",
    "        \"Payload Mass (kg)\": launch[\"payloads\"][0] if \"payloads\" in launch and len(launch[\"payloads\"]) > 0 else None,\n",
    "        \"Success\": launch[\"success\"]\n",
    "    })\n",
    "\n",
    "# Convert to Pandas DataFrame\n",
    "df = pd.DataFrame(launch_data)\n",
    "\n",
    "# Display first 5 rows\n",
    "df.head()\n"
   ]
  },
  {
   "cell_type": "code",
   "execution_count": 13,
   "id": "e2f9aff9-bbc7-4bc3-9480-32883ef6ab24",
   "metadata": {},
   "outputs": [
    {
     "name": "stderr",
     "output_type": "stream",
     "text": [
      "/var/folders/nn/0nd5mtdd4wx4mymtnf788kh40000gn/T/ipykernel_8898/485075408.py:5: FutureWarning: A value is trying to be set on a copy of a DataFrame or Series through chained assignment using an inplace method.\n",
      "The behavior will change in pandas 3.0. This inplace method will never work because the intermediate object on which we are setting values always behaves as a copy.\n",
      "\n",
      "For example, when doing 'df[col].method(value, inplace=True)', try using 'df.method({col: value}, inplace=True)' or df[col] = df[col].method(value) instead, to perform the operation inplace on the original object.\n",
      "\n",
      "\n",
      "  df[\"Payload Mass (kg)\"].fillna(0, inplace=True)\n"
     ]
    },
    {
     "data": {
      "text/html": [
       "<div>\n",
       "<style scoped>\n",
       "    .dataframe tbody tr th:only-of-type {\n",
       "        vertical-align: middle;\n",
       "    }\n",
       "\n",
       "    .dataframe tbody tr th {\n",
       "        vertical-align: top;\n",
       "    }\n",
       "\n",
       "    .dataframe thead th {\n",
       "        text-align: right;\n",
       "    }\n",
       "</style>\n",
       "<table border=\"1\" class=\"dataframe\">\n",
       "  <thead>\n",
       "    <tr style=\"text-align: right;\">\n",
       "      <th></th>\n",
       "      <th>Mission Name</th>\n",
       "      <th>Launch Date</th>\n",
       "      <th>Rocket ID</th>\n",
       "      <th>Launch Site</th>\n",
       "      <th>Payload Mass (kg)</th>\n",
       "      <th>Success</th>\n",
       "    </tr>\n",
       "  </thead>\n",
       "  <tbody>\n",
       "    <tr>\n",
       "      <th>0</th>\n",
       "      <td>FalconSat</td>\n",
       "      <td>2006-03-24 22:30:00+00:00</td>\n",
       "      <td>5e9d0d95eda69955f709d1eb</td>\n",
       "      <td>5e9e4502f5090995de566f86</td>\n",
       "      <td>5eb0e4b5b6c3bb0006eeb1e1</td>\n",
       "      <td>False</td>\n",
       "    </tr>\n",
       "    <tr>\n",
       "      <th>1</th>\n",
       "      <td>DemoSat</td>\n",
       "      <td>2007-03-21 01:10:00+00:00</td>\n",
       "      <td>5e9d0d95eda69955f709d1eb</td>\n",
       "      <td>5e9e4502f5090995de566f86</td>\n",
       "      <td>5eb0e4b6b6c3bb0006eeb1e2</td>\n",
       "      <td>False</td>\n",
       "    </tr>\n",
       "    <tr>\n",
       "      <th>2</th>\n",
       "      <td>Trailblazer</td>\n",
       "      <td>2008-08-03 03:34:00+00:00</td>\n",
       "      <td>5e9d0d95eda69955f709d1eb</td>\n",
       "      <td>5e9e4502f5090995de566f86</td>\n",
       "      <td>5eb0e4b6b6c3bb0006eeb1e3</td>\n",
       "      <td>False</td>\n",
       "    </tr>\n",
       "    <tr>\n",
       "      <th>3</th>\n",
       "      <td>RatSat</td>\n",
       "      <td>2008-09-28 23:15:00+00:00</td>\n",
       "      <td>5e9d0d95eda69955f709d1eb</td>\n",
       "      <td>5e9e4502f5090995de566f86</td>\n",
       "      <td>5eb0e4b7b6c3bb0006eeb1e5</td>\n",
       "      <td>True</td>\n",
       "    </tr>\n",
       "    <tr>\n",
       "      <th>4</th>\n",
       "      <td>RazakSat</td>\n",
       "      <td>2009-07-13 03:35:00+00:00</td>\n",
       "      <td>5e9d0d95eda69955f709d1eb</td>\n",
       "      <td>5e9e4502f5090995de566f86</td>\n",
       "      <td>5eb0e4b7b6c3bb0006eeb1e6</td>\n",
       "      <td>True</td>\n",
       "    </tr>\n",
       "  </tbody>\n",
       "</table>\n",
       "</div>"
      ],
      "text/plain": [
       "  Mission Name               Launch Date                 Rocket ID  \\\n",
       "0    FalconSat 2006-03-24 22:30:00+00:00  5e9d0d95eda69955f709d1eb   \n",
       "1      DemoSat 2007-03-21 01:10:00+00:00  5e9d0d95eda69955f709d1eb   \n",
       "2  Trailblazer 2008-08-03 03:34:00+00:00  5e9d0d95eda69955f709d1eb   \n",
       "3       RatSat 2008-09-28 23:15:00+00:00  5e9d0d95eda69955f709d1eb   \n",
       "4     RazakSat 2009-07-13 03:35:00+00:00  5e9d0d95eda69955f709d1eb   \n",
       "\n",
       "                Launch Site         Payload Mass (kg)  Success  \n",
       "0  5e9e4502f5090995de566f86  5eb0e4b5b6c3bb0006eeb1e1    False  \n",
       "1  5e9e4502f5090995de566f86  5eb0e4b6b6c3bb0006eeb1e2    False  \n",
       "2  5e9e4502f5090995de566f86  5eb0e4b6b6c3bb0006eeb1e3    False  \n",
       "3  5e9e4502f5090995de566f86  5eb0e4b7b6c3bb0006eeb1e5     True  \n",
       "4  5e9e4502f5090995de566f86  5eb0e4b7b6c3bb0006eeb1e6     True  "
      ]
     },
     "execution_count": 13,
     "metadata": {},
     "output_type": "execute_result"
    }
   ],
   "source": [
    "# Convert Launch Date to a proper datetime format\n",
    "df[\"Launch Date\"] = pd.to_datetime(df[\"Launch Date\"])\n",
    "\n",
    "# Fill missing values in Payload Mass\n",
    "df[\"Payload Mass (kg)\"].fillna(0, inplace=True)\n",
    "\n",
    "# Convert Success to a Boolean type\n",
    "df[\"Success\"] = df[\"Success\"].astype(bool)\n",
    "\n",
    "# Display the cleaned dataset\n",
    "df.head()\n"
   ]
  },
  {
   "cell_type": "code",
   "execution_count": 15,
   "id": "4e44963c-afb0-4018-9e28-0743030050ba",
   "metadata": {},
   "outputs": [
    {
     "name": "stdout",
     "output_type": "stream",
     "text": [
      "Data saved as spacex_launch_data.csv\n"
     ]
    }
   ],
   "source": [
    "df.to_csv(\"spacex_launch_data.csv\", index=False)\n",
    "print(\"Data saved as spacex_launch_data.csv\")\n"
   ]
  },
  {
   "cell_type": "code",
   "execution_count": null,
   "id": "2b8138fa-63e4-48c3-8989-71e544654831",
   "metadata": {},
   "outputs": [],
   "source": []
  }
 ],
 "metadata": {
  "kernelspec": {
   "display_name": "Python [conda env:base] *",
   "language": "python",
   "name": "conda-base-py"
  },
  "language_info": {
   "codemirror_mode": {
    "name": "ipython",
    "version": 3
   },
   "file_extension": ".py",
   "mimetype": "text/x-python",
   "name": "python",
   "nbconvert_exporter": "python",
   "pygments_lexer": "ipython3",
   "version": "3.12.2"
  }
 },
 "nbformat": 4,
 "nbformat_minor": 5
}
