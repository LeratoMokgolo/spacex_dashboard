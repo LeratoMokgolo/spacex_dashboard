{
 "cells": [
  {
   "cell_type": "code",
   "execution_count": 2,
   "id": "af78d354-e7fa-495a-9cb6-cb0493013bde",
   "metadata": {},
   "outputs": [
    {
     "name": "stdout",
     "output_type": "stream",
     "text": [
      "Requirement already satisfied: dash in /opt/anaconda3/lib/python3.12/site-packages (2.18.2)\n",
      "Requirement already satisfied: Flask<3.1,>=1.0.4 in /opt/anaconda3/lib/python3.12/site-packages (from dash) (3.0.3)\n",
      "Requirement already satisfied: Werkzeug<3.1 in /opt/anaconda3/lib/python3.12/site-packages (from dash) (3.0.3)\n",
      "Requirement already satisfied: plotly>=5.0.0 in /opt/anaconda3/lib/python3.12/site-packages (from dash) (5.24.1)\n",
      "Requirement already satisfied: dash-html-components==2.0.0 in /opt/anaconda3/lib/python3.12/site-packages (from dash) (2.0.0)\n",
      "Requirement already satisfied: dash-core-components==2.0.0 in /opt/anaconda3/lib/python3.12/site-packages (from dash) (2.0.0)\n",
      "Requirement already satisfied: dash-table==5.0.0 in /opt/anaconda3/lib/python3.12/site-packages (from dash) (5.0.0)\n",
      "Requirement already satisfied: importlib-metadata in /opt/anaconda3/lib/python3.12/site-packages (from dash) (7.0.1)\n",
      "Requirement already satisfied: typing-extensions>=4.1.1 in /opt/anaconda3/lib/python3.12/site-packages (from dash) (4.11.0)\n",
      "Requirement already satisfied: requests in /opt/anaconda3/lib/python3.12/site-packages (from dash) (2.32.3)\n",
      "Requirement already satisfied: retrying in /opt/anaconda3/lib/python3.12/site-packages (from dash) (1.3.4)\n",
      "Requirement already satisfied: nest-asyncio in /opt/anaconda3/lib/python3.12/site-packages (from dash) (1.6.0)\n",
      "Requirement already satisfied: setuptools in /opt/anaconda3/lib/python3.12/site-packages (from dash) (75.1.0)\n",
      "Requirement already satisfied: Jinja2>=3.1.2 in /opt/anaconda3/lib/python3.12/site-packages (from Flask<3.1,>=1.0.4->dash) (3.1.4)\n",
      "Requirement already satisfied: itsdangerous>=2.1.2 in /opt/anaconda3/lib/python3.12/site-packages (from Flask<3.1,>=1.0.4->dash) (2.2.0)\n",
      "Requirement already satisfied: click>=8.1.3 in /opt/anaconda3/lib/python3.12/site-packages (from Flask<3.1,>=1.0.4->dash) (8.1.7)\n",
      "Requirement already satisfied: blinker>=1.6.2 in /opt/anaconda3/lib/python3.12/site-packages (from Flask<3.1,>=1.0.4->dash) (1.6.2)\n",
      "Requirement already satisfied: tenacity>=6.2.0 in /opt/anaconda3/lib/python3.12/site-packages (from plotly>=5.0.0->dash) (8.2.3)\n",
      "Requirement already satisfied: packaging in /opt/anaconda3/lib/python3.12/site-packages (from plotly>=5.0.0->dash) (24.1)\n",
      "Requirement already satisfied: MarkupSafe>=2.1.1 in /opt/anaconda3/lib/python3.12/site-packages (from Werkzeug<3.1->dash) (2.1.3)\n",
      "Requirement already satisfied: zipp>=0.5 in /opt/anaconda3/lib/python3.12/site-packages (from importlib-metadata->dash) (3.17.0)\n",
      "Requirement already satisfied: charset-normalizer<4,>=2 in /opt/anaconda3/lib/python3.12/site-packages (from requests->dash) (3.3.2)\n",
      "Requirement already satisfied: idna<4,>=2.5 in /opt/anaconda3/lib/python3.12/site-packages (from requests->dash) (3.7)\n",
      "Requirement already satisfied: urllib3<3,>=1.21.1 in /opt/anaconda3/lib/python3.12/site-packages (from requests->dash) (2.2.3)\n",
      "Requirement already satisfied: certifi>=2017.4.17 in /opt/anaconda3/lib/python3.12/site-packages (from requests->dash) (2025.1.31)\n",
      "Requirement already satisfied: six>=1.7.0 in /opt/anaconda3/lib/python3.12/site-packages (from retrying->dash) (1.16.0)\n"
     ]
    }
   ],
   "source": [
    "!pip install dash"
   ]
  },
  {
   "cell_type": "code",
   "execution_count": 4,
   "id": "ce9c3592-05a5-4f77-833c-099e2fe79c33",
   "metadata": {},
   "outputs": [],
   "source": [
    "import dash\n",
    "from dash import dcc, html\n",
    "import plotly.express as px\n",
    "import pandas as pd\n",
    "from dash.dependencies import Input, Output\n"
   ]
  },
  {
   "cell_type": "code",
   "execution_count": 6,
   "id": "ae72cfeb-9491-44d2-9cab-e18169cf800f",
   "metadata": {},
   "outputs": [],
   "source": [
    "df = pd.DataFrame({\n",
    "    \"Year\": [2020, 2021, 2022, 2023],\n",
    "    \"Success_Count\": [10, 15, 7, 12],\n",
    "    \"Payload_Mass\": [500, 1000, 1500, 2000],\n",
    "    \"Booster_Version\": [\"Falcon 9\", \"Falcon 9\", \"Falcon Heavy\", \"Starship\"]\n",
    "})\n"
   ]
  },
  {
   "cell_type": "code",
   "execution_count": 8,
   "id": "ec0908c1-52f8-4f8c-8a39-7fbdef98bea9",
   "metadata": {},
   "outputs": [],
   "source": [
    "app = dash.Dash(__name__)\n",
    "\n",
    "app.layout = html.Div([\n",
    "    html.H1(\"SpaceX Launch Dashboard\", style={'textAlign': 'center'}),\n",
    "\n",
    "    # Dropdown for Booster Version\n",
    "    dcc.Dropdown(\n",
    "        id='booster-dropdown',\n",
    "        options=[{'label': x, 'value': x} for x in df[\"Booster_Version\"].unique()],\n",
    "        value=\"Falcon 9\",\n",
    "        placeholder=\"Select a Booster Version\"\n",
    "    ),\n",
    "\n",
    "    # Bar Chart for Successful Launches\n",
    "    dcc.Graph(id=\"launch-bar-chart\"),\n",
    "\n",
    "    # Scatter Plot for Payload Mass vs Success Count\n",
    "    dcc.Graph(id=\"payload-success-scatter\")\n",
    "])\n"
   ]
  },
  {
   "cell_type": "code",
   "execution_count": 10,
   "id": "069fec48-8586-4b16-9196-ed6cee9d053e",
   "metadata": {},
   "outputs": [],
   "source": [
    "@app.callback(\n",
    "    Output(\"launch-bar-chart\", \"figure\"),\n",
    "    [Input(\"booster-dropdown\", \"value\")]\n",
    ")\n",
    "def update_bar_chart(selected_booster):\n",
    "    filtered_df = df[df[\"Booster_Version\"] == selected_booster]\n",
    "    fig = px.bar(filtered_df, x=\"Year\", y=\"Success_Count\", title=\"Successful Launches\")\n",
    "    return fig\n",
    "\n",
    "@app.callback(\n",
    "    Output(\"payload-success-scatter\", \"figure\"),\n",
    "    [Input(\"booster-dropdown\", \"value\")]\n",
    ")\n",
    "def update_scatter_chart(selected_booster):\n",
    "    filtered_df = df[df[\"Booster_Version\"] == selected_booster]\n",
    "    fig = px.scatter(filtered_df, x=\"Payload_Mass\", y=\"Success_Count\", size=\"Success_Count\", title=\"Payload vs Success\")\n",
    "    return fig\n"
   ]
  },
  {
   "cell_type": "markdown",
   "id": "554453af-8a8e-4ec0-ad32-08541dc0036b",
   "metadata": {},
   "source": [
    "### from jupyter_dash import JupyterDash\n",
    "\n",
    "app = JupyterDash(__name__)  # Use JupyterDash instead of dash.Dash()\n",
    "app.layout = html.Div([\n",
    "    html.H1(\"SpaceX Launch Dashboard\", style={'textAlign': 'center'}),\n",
    "    \n",
    "    dcc.Dropdown(\n",
    "        id='booster-dropdown',\n",
    "        options=[{'label': x, 'value': x} for x in df[\"Booster_Version\"].unique()],\n",
    "        value=\"Falcon 9\",\n",
    "        placeholder=\"Select a Booster Version\"\n",
    "    ),\n",
    "    \n",
    "    dcc.Graph(id=\"launch-bar-chart\"),\n",
    "    dcc.Graph(id=\"payload-success-scatter\")\n",
    "])\n",
    "\n",
    "# Run the Dash app\n",
    "app.run_server(mode=\"inline\")\n"
   ]
  },
  {
   "cell_type": "code",
   "execution_count": 14,
   "id": "0e703d0c-9cbf-4c28-bb5f-4440fd58f999",
   "metadata": {},
   "outputs": [],
   "source": [
    "@app.callback(\n",
    "    Output(\"payload-success-scatter\", \"figure\"),\n",
    "    [Input(\"booster-dropdown\", \"value\")]\n",
    ")\n",
    "def update_scatter_chart(selected_booster):\n",
    "    filtered_df = df[df[\"Booster_Version\"] == selected_booster]\n",
    "    fig = px.scatter(filtered_df, \n",
    "                     x=\"Payload_Mass\", \n",
    "                     y=\"Success_Count\", \n",
    "                     size=\"Success_Count\", \n",
    "                     title=\"Payload vs Success\")\n",
    "    return fig  # ✅ Ensure this returns a figure\n"
   ]
  },
  {
   "cell_type": "code",
   "execution_count": null,
   "id": "95c9e9aa-ddf1-48d6-a3fc-fbac317464ea",
   "metadata": {},
   "outputs": [],
   "source": []
  }
 ],
 "metadata": {
  "kernelspec": {
   "display_name": "Python [conda env:base] *",
   "language": "python",
   "name": "conda-base-py"
  },
  "language_info": {
   "codemirror_mode": {
    "name": "ipython",
    "version": 3
   },
   "file_extension": ".py",
   "mimetype": "text/x-python",
   "name": "python",
   "nbconvert_exporter": "python",
   "pygments_lexer": "ipython3",
   "version": "3.12.2"
  }
 },
 "nbformat": 4,
 "nbformat_minor": 5
}
