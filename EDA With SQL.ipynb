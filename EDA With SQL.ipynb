{
 "cells": [
  {
   "cell_type": "code",
   "execution_count": 2,
   "id": "606b45a4-463d-49b2-817b-b72a9e3690c4",
   "metadata": {},
   "outputs": [],
   "source": [
    "import sqlite3\n",
    "import pandas as pd\n"
   ]
  },
  {
   "cell_type": "code",
   "execution_count": 4,
   "id": "68ca3bb0-c575-4a7c-830b-c8c533774312",
   "metadata": {},
   "outputs": [
    {
     "name": "stdout",
     "output_type": "stream",
     "text": [
      "       name\n",
      "0  launches\n"
     ]
    }
   ],
   "source": [
    "# Create a connection to SQLite\n",
    "conn = sqlite3.connect(\"spacex_launches.db\")\n",
    "\n",
    "# Load the CSV into a Pandas DataFrame\n",
    "df = pd.read_csv(\"spacex_launch_data.csv\")\n",
    "\n",
    "# Save DataFrame to SQL table\n",
    "df.to_sql(\"launches\", conn, if_exists=\"replace\", index=False)\n",
    "\n",
    "# Verify the table exists\n",
    "print(pd.read_sql(\"SELECT name FROM sqlite_master WHERE type='table';\", conn))\n"
   ]
  },
  {
   "cell_type": "code",
   "execution_count": 6,
   "id": "13b9ed56-f450-4574-868a-1364f45ff036",
   "metadata": {},
   "outputs": [
    {
     "ename": "DatabaseError",
     "evalue": "Execution failed on sql '\nSELECT launch_site, COUNT(*) AS total_launches\nFROM launches\nGROUP BY launch_site\nORDER BY total_launches DESC;\n': no such column: launch_site",
     "output_type": "error",
     "traceback": [
      "\u001b[0;31m---------------------------------------------------------------------------\u001b[0m",
      "\u001b[0;31mOperationalError\u001b[0m                          Traceback (most recent call last)",
      "File \u001b[0;32m/opt/anaconda3/lib/python3.12/site-packages/pandas/io/sql.py:2674\u001b[0m, in \u001b[0;36mSQLiteDatabase.execute\u001b[0;34m(self, sql, params)\u001b[0m\n\u001b[1;32m   2673\u001b[0m \u001b[38;5;28;01mtry\u001b[39;00m:\n\u001b[0;32m-> 2674\u001b[0m     cur\u001b[38;5;241m.\u001b[39mexecute(sql, \u001b[38;5;241m*\u001b[39margs)\n\u001b[1;32m   2675\u001b[0m     \u001b[38;5;28;01mreturn\u001b[39;00m cur\n",
      "\u001b[0;31mOperationalError\u001b[0m: no such column: launch_site",
      "\nThe above exception was the direct cause of the following exception:\n",
      "\u001b[0;31mDatabaseError\u001b[0m                             Traceback (most recent call last)",
      "Cell \u001b[0;32mIn[6], line 7\u001b[0m\n\u001b[1;32m      1\u001b[0m query \u001b[38;5;241m=\u001b[39m \u001b[38;5;124m\"\"\"\u001b[39m\n\u001b[1;32m      2\u001b[0m \u001b[38;5;124mSELECT launch_site, COUNT(*) AS total_launches\u001b[39m\n\u001b[1;32m      3\u001b[0m \u001b[38;5;124mFROM launches\u001b[39m\n\u001b[1;32m      4\u001b[0m \u001b[38;5;124mGROUP BY launch_site\u001b[39m\n\u001b[1;32m      5\u001b[0m \u001b[38;5;124mORDER BY total_launches DESC;\u001b[39m\n\u001b[1;32m      6\u001b[0m \u001b[38;5;124m\"\"\"\u001b[39m\n\u001b[0;32m----> 7\u001b[0m df1 \u001b[38;5;241m=\u001b[39m pd\u001b[38;5;241m.\u001b[39mread_sql(query, conn)\n\u001b[1;32m      8\u001b[0m \u001b[38;5;28mprint\u001b[39m(df1)\n",
      "File \u001b[0;32m/opt/anaconda3/lib/python3.12/site-packages/pandas/io/sql.py:706\u001b[0m, in \u001b[0;36mread_sql\u001b[0;34m(sql, con, index_col, coerce_float, params, parse_dates, columns, chunksize, dtype_backend, dtype)\u001b[0m\n\u001b[1;32m    704\u001b[0m \u001b[38;5;28;01mwith\u001b[39;00m pandasSQL_builder(con) \u001b[38;5;28;01mas\u001b[39;00m pandas_sql:\n\u001b[1;32m    705\u001b[0m     \u001b[38;5;28;01mif\u001b[39;00m \u001b[38;5;28misinstance\u001b[39m(pandas_sql, SQLiteDatabase):\n\u001b[0;32m--> 706\u001b[0m         \u001b[38;5;28;01mreturn\u001b[39;00m pandas_sql\u001b[38;5;241m.\u001b[39mread_query(\n\u001b[1;32m    707\u001b[0m             sql,\n\u001b[1;32m    708\u001b[0m             index_col\u001b[38;5;241m=\u001b[39mindex_col,\n\u001b[1;32m    709\u001b[0m             params\u001b[38;5;241m=\u001b[39mparams,\n\u001b[1;32m    710\u001b[0m             coerce_float\u001b[38;5;241m=\u001b[39mcoerce_float,\n\u001b[1;32m    711\u001b[0m             parse_dates\u001b[38;5;241m=\u001b[39mparse_dates,\n\u001b[1;32m    712\u001b[0m             chunksize\u001b[38;5;241m=\u001b[39mchunksize,\n\u001b[1;32m    713\u001b[0m             dtype_backend\u001b[38;5;241m=\u001b[39mdtype_backend,\n\u001b[1;32m    714\u001b[0m             dtype\u001b[38;5;241m=\u001b[39mdtype,\n\u001b[1;32m    715\u001b[0m         )\n\u001b[1;32m    717\u001b[0m     \u001b[38;5;28;01mtry\u001b[39;00m:\n\u001b[1;32m    718\u001b[0m         _is_table_name \u001b[38;5;241m=\u001b[39m pandas_sql\u001b[38;5;241m.\u001b[39mhas_table(sql)\n",
      "File \u001b[0;32m/opt/anaconda3/lib/python3.12/site-packages/pandas/io/sql.py:2738\u001b[0m, in \u001b[0;36mSQLiteDatabase.read_query\u001b[0;34m(self, sql, index_col, coerce_float, parse_dates, params, chunksize, dtype, dtype_backend)\u001b[0m\n\u001b[1;32m   2727\u001b[0m \u001b[38;5;28;01mdef\u001b[39;00m \u001b[38;5;21mread_query\u001b[39m(\n\u001b[1;32m   2728\u001b[0m     \u001b[38;5;28mself\u001b[39m,\n\u001b[1;32m   2729\u001b[0m     sql,\n\u001b[0;32m   (...)\u001b[0m\n\u001b[1;32m   2736\u001b[0m     dtype_backend: DtypeBackend \u001b[38;5;241m|\u001b[39m Literal[\u001b[38;5;124m\"\u001b[39m\u001b[38;5;124mnumpy\u001b[39m\u001b[38;5;124m\"\u001b[39m] \u001b[38;5;241m=\u001b[39m \u001b[38;5;124m\"\u001b[39m\u001b[38;5;124mnumpy\u001b[39m\u001b[38;5;124m\"\u001b[39m,\n\u001b[1;32m   2737\u001b[0m ) \u001b[38;5;241m-\u001b[39m\u001b[38;5;241m>\u001b[39m DataFrame \u001b[38;5;241m|\u001b[39m Iterator[DataFrame]:\n\u001b[0;32m-> 2738\u001b[0m     cursor \u001b[38;5;241m=\u001b[39m \u001b[38;5;28mself\u001b[39m\u001b[38;5;241m.\u001b[39mexecute(sql, params)\n\u001b[1;32m   2739\u001b[0m     columns \u001b[38;5;241m=\u001b[39m [col_desc[\u001b[38;5;241m0\u001b[39m] \u001b[38;5;28;01mfor\u001b[39;00m col_desc \u001b[38;5;129;01min\u001b[39;00m cursor\u001b[38;5;241m.\u001b[39mdescription]\n\u001b[1;32m   2741\u001b[0m     \u001b[38;5;28;01mif\u001b[39;00m chunksize \u001b[38;5;129;01mis\u001b[39;00m \u001b[38;5;129;01mnot\u001b[39;00m \u001b[38;5;28;01mNone\u001b[39;00m:\n",
      "File \u001b[0;32m/opt/anaconda3/lib/python3.12/site-packages/pandas/io/sql.py:2686\u001b[0m, in \u001b[0;36mSQLiteDatabase.execute\u001b[0;34m(self, sql, params)\u001b[0m\n\u001b[1;32m   2683\u001b[0m     \u001b[38;5;28;01mraise\u001b[39;00m ex \u001b[38;5;28;01mfrom\u001b[39;00m \u001b[38;5;21;01minner_exc\u001b[39;00m\n\u001b[1;32m   2685\u001b[0m ex \u001b[38;5;241m=\u001b[39m DatabaseError(\u001b[38;5;124mf\u001b[39m\u001b[38;5;124m\"\u001b[39m\u001b[38;5;124mExecution failed on sql \u001b[39m\u001b[38;5;124m'\u001b[39m\u001b[38;5;132;01m{\u001b[39;00msql\u001b[38;5;132;01m}\u001b[39;00m\u001b[38;5;124m'\u001b[39m\u001b[38;5;124m: \u001b[39m\u001b[38;5;132;01m{\u001b[39;00mexc\u001b[38;5;132;01m}\u001b[39;00m\u001b[38;5;124m\"\u001b[39m)\n\u001b[0;32m-> 2686\u001b[0m \u001b[38;5;28;01mraise\u001b[39;00m ex \u001b[38;5;28;01mfrom\u001b[39;00m \u001b[38;5;21;01mexc\u001b[39;00m\n",
      "\u001b[0;31mDatabaseError\u001b[0m: Execution failed on sql '\nSELECT launch_site, COUNT(*) AS total_launches\nFROM launches\nGROUP BY launch_site\nORDER BY total_launches DESC;\n': no such column: launch_site"
     ]
    }
   ],
   "source": [
    "query = \"\"\"\n",
    "SELECT launch_site, COUNT(*) AS total_launches\n",
    "FROM launches\n",
    "GROUP BY launch_site\n",
    "ORDER BY total_launches DESC;\n",
    "\"\"\"\n",
    "df1 = pd.read_sql(query, conn)\n",
    "print(df1)\n"
   ]
  },
  {
   "cell_type": "code",
   "execution_count": 8,
   "id": "97f475b2-fcb0-4494-b526-ea109c0ccfb3",
   "metadata": {},
   "outputs": [
    {
     "name": "stdout",
     "output_type": "stream",
     "text": [
      "   cid               name     type  notnull dflt_value  pk\n",
      "0    0       Mission Name     TEXT        0       None   0\n",
      "1    1        Launch Date     TEXT        0       None   0\n",
      "2    2          Rocket ID     TEXT        0       None   0\n",
      "3    3        Launch Site     TEXT        0       None   0\n",
      "4    4  Payload Mass (kg)     TEXT        0       None   0\n",
      "5    5            Success  INTEGER        0       None   0\n"
     ]
    }
   ],
   "source": [
    "query = \"PRAGMA table_info(launches);\"\n",
    "df_info = pd.read_sql(query, conn)\n",
    "print(df_info)\n"
   ]
  },
  {
   "cell_type": "code",
   "execution_count": 10,
   "id": "c283d7fa-fab3-443c-aefe-f8cc3f0f35c5",
   "metadata": {},
   "outputs": [
    {
     "name": "stdout",
     "output_type": "stream",
     "text": [
      "                Launch Site  total_launches\n",
      "0  5e9e4501f509094ba4566f84              99\n",
      "1  5e9e4502f509094188566f88              55\n",
      "2  5e9e4502f509092b78566f87              28\n",
      "3  5e9e4502f5090995de566f86               5\n"
     ]
    }
   ],
   "source": [
    "query = \"\"\"\n",
    "SELECT \"Launch Site\", COUNT(*) AS total_launches\n",
    "FROM launches\n",
    "GROUP BY \"Launch Site\"\n",
    "ORDER BY total_launches DESC;\n",
    "\"\"\"\n",
    "df1 = pd.read_sql(query, conn)\n",
    "print(df1)\n"
   ]
  },
  {
   "cell_type": "code",
   "execution_count": 12,
   "id": "63522bec-2d39-43cb-a51f-abbdb4543624",
   "metadata": {},
   "outputs": [
    {
     "ename": "SyntaxError",
     "evalue": "invalid syntax (3448737852.py, line 1)",
     "output_type": "error",
     "traceback": [
      "\u001b[0;36m  Cell \u001b[0;32mIn[12], line 1\u001b[0;36m\u001b[0m\n\u001b[0;31m    SELECT \"Launch Site\", AVG(\"Payload Mass (kg)\") AS avg_payload_mass\u001b[0m\n\u001b[0m           ^\u001b[0m\n\u001b[0;31mSyntaxError\u001b[0m\u001b[0;31m:\u001b[0m invalid syntax\n"
     ]
    }
   ],
   "source": [
    "SELECT \"Launch Site\", AVG(\"Payload Mass (kg)\") AS avg_payload_mass\n",
    "FROM launches\n",
    "GROUP BY \"Launch Site\";\n"
   ]
  },
  {
   "cell_type": "code",
   "execution_count": 14,
   "id": "a402000d-2287-43ed-b00f-41c1ce8201b9",
   "metadata": {},
   "outputs": [
    {
     "name": "stdout",
     "output_type": "stream",
     "text": [
      "                Launch Site  avg_payload_mass\n",
      "0  5e9e4501f509094ba4566f84      6.380570e+12\n",
      "1  5e9e4502f509092b78566f87      2.503496e+04\n",
      "2  5e9e4502f509094188566f88               inf\n",
      "3  5e9e4502f5090995de566f86      5.000000e+00\n"
     ]
    }
   ],
   "source": [
    "query = \"\"\"\n",
    "SELECT \"Launch Site\", AVG(\"Payload Mass (kg)\") AS avg_payload_mass\n",
    "FROM launches\n",
    "GROUP BY \"Launch Site\";\n",
    "\"\"\"\n",
    "\n",
    "df2 = pd.read_sql(query, conn)\n",
    "print(df2)\n"
   ]
  },
  {
   "cell_type": "code",
   "execution_count": 16,
   "id": "f2efac83-803c-4f57-9b67-6f1b92574870",
   "metadata": {},
   "outputs": [
    {
     "name": "stdout",
     "output_type": "stream",
     "text": [
      "                Launch Site  total_launches\n",
      "0  5e9e4501f509094ba4566f84              99\n",
      "1  5e9e4502f509094188566f88              55\n",
      "2  5e9e4502f509092b78566f87              28\n",
      "3  5e9e4502f5090995de566f86               5\n"
     ]
    }
   ],
   "source": [
    "query = \"\"\"\n",
    "SELECT \"Launch Site\", COUNT(*) AS total_launches\n",
    "FROM launches\n",
    "GROUP BY \"Launch Site\"\n",
    "ORDER BY total_launches DESC;\n",
    "\"\"\"\n",
    "df1 = pd.read_sql(query, conn)\n",
    "print(df1)\n"
   ]
  },
  {
   "cell_type": "code",
   "execution_count": 18,
   "id": "a7dec8d3-5e10-47ec-9b4b-26aaa7a9e1ed",
   "metadata": {},
   "outputs": [
    {
     "ename": "DatabaseError",
     "evalue": "Execution failed on sql '\nSELECT orbit, AVG(\"Payload Mass (kg)\") AS avg_payload_mass\nFROM launches\nGROUP BY orbit;\n': no such column: orbit",
     "output_type": "error",
     "traceback": [
      "\u001b[0;31m---------------------------------------------------------------------------\u001b[0m",
      "\u001b[0;31mOperationalError\u001b[0m                          Traceback (most recent call last)",
      "File \u001b[0;32m/opt/anaconda3/lib/python3.12/site-packages/pandas/io/sql.py:2674\u001b[0m, in \u001b[0;36mSQLiteDatabase.execute\u001b[0;34m(self, sql, params)\u001b[0m\n\u001b[1;32m   2673\u001b[0m \u001b[38;5;28;01mtry\u001b[39;00m:\n\u001b[0;32m-> 2674\u001b[0m     cur\u001b[38;5;241m.\u001b[39mexecute(sql, \u001b[38;5;241m*\u001b[39margs)\n\u001b[1;32m   2675\u001b[0m     \u001b[38;5;28;01mreturn\u001b[39;00m cur\n",
      "\u001b[0;31mOperationalError\u001b[0m: no such column: orbit",
      "\nThe above exception was the direct cause of the following exception:\n",
      "\u001b[0;31mDatabaseError\u001b[0m                             Traceback (most recent call last)",
      "Cell \u001b[0;32mIn[18], line 6\u001b[0m\n\u001b[1;32m      1\u001b[0m query \u001b[38;5;241m=\u001b[39m \u001b[38;5;124m\"\"\"\u001b[39m\n\u001b[1;32m      2\u001b[0m \u001b[38;5;124mSELECT orbit, AVG(\u001b[39m\u001b[38;5;124m\"\u001b[39m\u001b[38;5;124mPayload Mass (kg)\u001b[39m\u001b[38;5;124m\"\u001b[39m\u001b[38;5;124m) AS avg_payload_mass\u001b[39m\n\u001b[1;32m      3\u001b[0m \u001b[38;5;124mFROM launches\u001b[39m\n\u001b[1;32m      4\u001b[0m \u001b[38;5;124mGROUP BY orbit;\u001b[39m\n\u001b[1;32m      5\u001b[0m \u001b[38;5;124m\"\"\"\u001b[39m\n\u001b[0;32m----> 6\u001b[0m df2 \u001b[38;5;241m=\u001b[39m pd\u001b[38;5;241m.\u001b[39mread_sql(query, conn)\n\u001b[1;32m      7\u001b[0m \u001b[38;5;28mprint\u001b[39m(df2)\n",
      "File \u001b[0;32m/opt/anaconda3/lib/python3.12/site-packages/pandas/io/sql.py:706\u001b[0m, in \u001b[0;36mread_sql\u001b[0;34m(sql, con, index_col, coerce_float, params, parse_dates, columns, chunksize, dtype_backend, dtype)\u001b[0m\n\u001b[1;32m    704\u001b[0m \u001b[38;5;28;01mwith\u001b[39;00m pandasSQL_builder(con) \u001b[38;5;28;01mas\u001b[39;00m pandas_sql:\n\u001b[1;32m    705\u001b[0m     \u001b[38;5;28;01mif\u001b[39;00m \u001b[38;5;28misinstance\u001b[39m(pandas_sql, SQLiteDatabase):\n\u001b[0;32m--> 706\u001b[0m         \u001b[38;5;28;01mreturn\u001b[39;00m pandas_sql\u001b[38;5;241m.\u001b[39mread_query(\n\u001b[1;32m    707\u001b[0m             sql,\n\u001b[1;32m    708\u001b[0m             index_col\u001b[38;5;241m=\u001b[39mindex_col,\n\u001b[1;32m    709\u001b[0m             params\u001b[38;5;241m=\u001b[39mparams,\n\u001b[1;32m    710\u001b[0m             coerce_float\u001b[38;5;241m=\u001b[39mcoerce_float,\n\u001b[1;32m    711\u001b[0m             parse_dates\u001b[38;5;241m=\u001b[39mparse_dates,\n\u001b[1;32m    712\u001b[0m             chunksize\u001b[38;5;241m=\u001b[39mchunksize,\n\u001b[1;32m    713\u001b[0m             dtype_backend\u001b[38;5;241m=\u001b[39mdtype_backend,\n\u001b[1;32m    714\u001b[0m             dtype\u001b[38;5;241m=\u001b[39mdtype,\n\u001b[1;32m    715\u001b[0m         )\n\u001b[1;32m    717\u001b[0m     \u001b[38;5;28;01mtry\u001b[39;00m:\n\u001b[1;32m    718\u001b[0m         _is_table_name \u001b[38;5;241m=\u001b[39m pandas_sql\u001b[38;5;241m.\u001b[39mhas_table(sql)\n",
      "File \u001b[0;32m/opt/anaconda3/lib/python3.12/site-packages/pandas/io/sql.py:2738\u001b[0m, in \u001b[0;36mSQLiteDatabase.read_query\u001b[0;34m(self, sql, index_col, coerce_float, parse_dates, params, chunksize, dtype, dtype_backend)\u001b[0m\n\u001b[1;32m   2727\u001b[0m \u001b[38;5;28;01mdef\u001b[39;00m \u001b[38;5;21mread_query\u001b[39m(\n\u001b[1;32m   2728\u001b[0m     \u001b[38;5;28mself\u001b[39m,\n\u001b[1;32m   2729\u001b[0m     sql,\n\u001b[0;32m   (...)\u001b[0m\n\u001b[1;32m   2736\u001b[0m     dtype_backend: DtypeBackend \u001b[38;5;241m|\u001b[39m Literal[\u001b[38;5;124m\"\u001b[39m\u001b[38;5;124mnumpy\u001b[39m\u001b[38;5;124m\"\u001b[39m] \u001b[38;5;241m=\u001b[39m \u001b[38;5;124m\"\u001b[39m\u001b[38;5;124mnumpy\u001b[39m\u001b[38;5;124m\"\u001b[39m,\n\u001b[1;32m   2737\u001b[0m ) \u001b[38;5;241m-\u001b[39m\u001b[38;5;241m>\u001b[39m DataFrame \u001b[38;5;241m|\u001b[39m Iterator[DataFrame]:\n\u001b[0;32m-> 2738\u001b[0m     cursor \u001b[38;5;241m=\u001b[39m \u001b[38;5;28mself\u001b[39m\u001b[38;5;241m.\u001b[39mexecute(sql, params)\n\u001b[1;32m   2739\u001b[0m     columns \u001b[38;5;241m=\u001b[39m [col_desc[\u001b[38;5;241m0\u001b[39m] \u001b[38;5;28;01mfor\u001b[39;00m col_desc \u001b[38;5;129;01min\u001b[39;00m cursor\u001b[38;5;241m.\u001b[39mdescription]\n\u001b[1;32m   2741\u001b[0m     \u001b[38;5;28;01mif\u001b[39;00m chunksize \u001b[38;5;129;01mis\u001b[39;00m \u001b[38;5;129;01mnot\u001b[39;00m \u001b[38;5;28;01mNone\u001b[39;00m:\n",
      "File \u001b[0;32m/opt/anaconda3/lib/python3.12/site-packages/pandas/io/sql.py:2686\u001b[0m, in \u001b[0;36mSQLiteDatabase.execute\u001b[0;34m(self, sql, params)\u001b[0m\n\u001b[1;32m   2683\u001b[0m     \u001b[38;5;28;01mraise\u001b[39;00m ex \u001b[38;5;28;01mfrom\u001b[39;00m \u001b[38;5;21;01minner_exc\u001b[39;00m\n\u001b[1;32m   2685\u001b[0m ex \u001b[38;5;241m=\u001b[39m DatabaseError(\u001b[38;5;124mf\u001b[39m\u001b[38;5;124m\"\u001b[39m\u001b[38;5;124mExecution failed on sql \u001b[39m\u001b[38;5;124m'\u001b[39m\u001b[38;5;132;01m{\u001b[39;00msql\u001b[38;5;132;01m}\u001b[39;00m\u001b[38;5;124m'\u001b[39m\u001b[38;5;124m: \u001b[39m\u001b[38;5;132;01m{\u001b[39;00mexc\u001b[38;5;132;01m}\u001b[39;00m\u001b[38;5;124m\"\u001b[39m)\n\u001b[0;32m-> 2686\u001b[0m \u001b[38;5;28;01mraise\u001b[39;00m ex \u001b[38;5;28;01mfrom\u001b[39;00m \u001b[38;5;21;01mexc\u001b[39;00m\n",
      "\u001b[0;31mDatabaseError\u001b[0m: Execution failed on sql '\nSELECT orbit, AVG(\"Payload Mass (kg)\") AS avg_payload_mass\nFROM launches\nGROUP BY orbit;\n': no such column: orbit"
     ]
    }
   ],
   "source": [
    "query = \"\"\"\n",
    "SELECT orbit, AVG(\"Payload Mass (kg)\") AS avg_payload_mass\n",
    "FROM launches\n",
    "GROUP BY orbit;\n",
    "\"\"\"\n",
    "df2 = pd.read_sql(query, conn)\n",
    "print(df2)\n"
   ]
  },
  {
   "cell_type": "code",
   "execution_count": 20,
   "id": "649e8628-beba-47ff-8dc3-87722af2033b",
   "metadata": {},
   "outputs": [
    {
     "name": "stdout",
     "output_type": "stream",
     "text": [
      "   cid               name     type  notnull dflt_value  pk\n",
      "0    0       Mission Name     TEXT        0       None   0\n",
      "1    1        Launch Date     TEXT        0       None   0\n",
      "2    2          Rocket ID     TEXT        0       None   0\n",
      "3    3        Launch Site     TEXT        0       None   0\n",
      "4    4  Payload Mass (kg)     TEXT        0       None   0\n",
      "5    5            Success  INTEGER        0       None   0\n"
     ]
    }
   ],
   "source": [
    "query = \"PRAGMA table_info(launches);\"\n",
    "df_info = pd.read_sql(query, conn)\n",
    "print(df_info)\n"
   ]
  },
  {
   "cell_type": "code",
   "execution_count": 22,
   "id": "d7fb9bba-5ebd-413d-b9ac-0e62961851db",
   "metadata": {},
   "outputs": [
    {
     "name": "stdout",
     "output_type": "stream",
     "text": [
      "  \"Orbit\"  avg_payload_mass\n",
      "0   Orbit               inf\n"
     ]
    }
   ],
   "source": [
    "query = \"\"\"\n",
    "SELECT \"Orbit\", AVG(\"Payload Mass (kg)\") AS avg_payload_mass\n",
    "FROM launches\n",
    "GROUP BY \"Orbit\";\n",
    "\"\"\"\n",
    "df2 = pd.read_sql(query, conn)\n",
    "print(df2)\n"
   ]
  },
  {
   "cell_type": "code",
   "execution_count": 24,
   "id": "786040b4-61d1-4fea-9f58-7f99c8ee81cd",
   "metadata": {},
   "outputs": [
    {
     "name": "stdout",
     "output_type": "stream",
     "text": [
      "                Launch Site  avg_payload_mass\n",
      "0  5e9e4501f509094ba4566f84      6.380570e+12\n",
      "1  5e9e4502f509092b78566f87      2.503496e+04\n",
      "2  5e9e4502f509094188566f88               inf\n",
      "3  5e9e4502f5090995de566f86      5.000000e+00\n"
     ]
    }
   ],
   "source": [
    "query = \"\"\"\n",
    "SELECT \"Launch Site\", AVG(\"Payload Mass (kg)\") AS avg_payload_mass\n",
    "FROM launches\n",
    "GROUP BY \"Launch Site\";\n",
    "\"\"\"\n",
    "df2 = pd.read_sql(query, conn)\n",
    "print(df2)\n"
   ]
  },
  {
   "cell_type": "code",
   "execution_count": 26,
   "id": "60f87973-305b-4be2-b55c-8398e08fb1cd",
   "metadata": {},
   "outputs": [],
   "source": [
    "df[\"Payload Mass (kg)\"] = pd.to_numeric(df[\"Payload Mass (kg)\"], errors=\"coerce\").fillna(0)\n"
   ]
  },
  {
   "cell_type": "code",
   "execution_count": 28,
   "id": "5aabab21-8448-4b94-9fda-99a9699ea593",
   "metadata": {},
   "outputs": [
    {
     "data": {
      "text/plain": [
       "187"
      ]
     },
     "execution_count": 28,
     "metadata": {},
     "output_type": "execute_result"
    }
   ],
   "source": [
    "df.to_sql(\"launches\", conn, if_exists=\"replace\", index=False)\n"
   ]
  },
  {
   "cell_type": "code",
   "execution_count": 30,
   "id": "e3927e22-f02a-4fbf-a9cf-e0d1b4d0ac4c",
   "metadata": {},
   "outputs": [
    {
     "name": "stdout",
     "output_type": "stream",
     "text": [
      "                Launch Site  total_launches\n",
      "0  5e9e4501f509094ba4566f84              99\n",
      "1  5e9e4502f509094188566f88              55\n",
      "2  5e9e4502f509092b78566f87              28\n",
      "3  5e9e4502f5090995de566f86               5\n"
     ]
    }
   ],
   "source": [
    "query = \"\"\"\n",
    "SELECT \"Launch Site\", COUNT(*) AS total_launches\n",
    "FROM launches\n",
    "GROUP BY \"Launch Site\"\n",
    "ORDER BY total_launches DESC;\n",
    "\"\"\"\n",
    "df1 = pd.read_sql(query, conn)\n",
    "print(df1)\n"
   ]
  },
  {
   "cell_type": "code",
   "execution_count": 34,
   "id": "ae70efec-e606-4a5d-8b98-a60df3a3ced2",
   "metadata": {},
   "outputs": [
    {
     "name": "stdout",
     "output_type": "stream",
     "text": [
      "   total_launches\n",
      "0             187\n"
     ]
    }
   ],
   "source": [
    "query = \"\"\"\n",
    "SELECT COUNT(*) AS total_launches\n",
    "FROM launches;\n",
    "\"\"\"\n",
    "df3 = pd.read_sql(query, conn)\n",
    "print(df3)\n"
   ]
  },
  {
   "cell_type": "code",
   "execution_count": 36,
   "id": "c43f042a-eb41-4433-88fd-ba48d9835796",
   "metadata": {},
   "outputs": [
    {
     "name": "stdout",
     "output_type": "stream",
     "text": [
      "                                       Mission Name  \\\n",
      "0                                        Starlink-2   \n",
      "1                  Crew Dragon In Flight Abort Test   \n",
      "2                                        Starlink-3   \n",
      "3                                        Starlink-4   \n",
      "4                                            CRS-20   \n",
      "..                                              ...   \n",
      "96   Starlink 4-20 (v1.5) & Sherpa LTC-2/Varuna-TDM   \n",
      "97              Starlink 4-2 (v1.5) & Blue Walker 3   \n",
      "98                             Starlink 4-34 (v1.5)   \n",
      "99                             Starlink 4-35 (v1.5)   \n",
      "100                                          Crew-5   \n",
      "\n",
      "                   Launch Date                 Rocket ID  \\\n",
      "0    2020-01-07 02:19:00+00:00  5e9d0d95eda69973a809d1ec   \n",
      "1    2020-01-19 14:00:00+00:00  5e9d0d95eda69973a809d1ec   \n",
      "2    2020-01-29 14:06:00+00:00  5e9d0d95eda69973a809d1ec   \n",
      "3    2020-02-17 15:05:55+00:00  5e9d0d95eda69973a809d1ec   \n",
      "4    2020-03-07 04:50:31+00:00  5e9d0d95eda69973a809d1ec   \n",
      "..                         ...                       ...   \n",
      "96   2022-09-05 02:09:00+00:00  5e9d0d95eda69973a809d1ec   \n",
      "97   2022-09-11 01:10:00+00:00  5e9d0d95eda69973a809d1ec   \n",
      "98   2022-09-17 01:05:00+00:00  5e9d0d95eda69973a809d1ec   \n",
      "99   2022-09-24 23:30:00+00:00  5e9d0d95eda69973a809d1ec   \n",
      "100  2022-10-05 16:00:00+00:00  5e9d0d95eda69973a809d1ec   \n",
      "\n",
      "                  Launch Site  Payload Mass (kg)  Success  \n",
      "0    5e9e4501f509094ba4566f84                0.0        1  \n",
      "1    5e9e4502f509094188566f88                0.0        1  \n",
      "2    5e9e4501f509094ba4566f84                0.0        1  \n",
      "3    5e9e4501f509094ba4566f84                0.0        1  \n",
      "4    5e9e4501f509094ba4566f84                0.0        1  \n",
      "..                        ...                ...      ...  \n",
      "96   5e9e4501f509094ba4566f84                0.0        1  \n",
      "97   5e9e4502f509094188566f88                0.0        1  \n",
      "98   5e9e4501f509094ba4566f84                0.0        1  \n",
      "99   5e9e4501f509094ba4566f84                0.0        1  \n",
      "100  5e9e4502f509094188566f88                0.0        1  \n",
      "\n",
      "[101 rows x 6 columns]\n"
     ]
    }
   ],
   "source": [
    "query = \"\"\"\n",
    "SELECT * FROM launches\n",
    "WHERE \"Launch Date\" BETWEEN '2020-01-01' AND '2022-12-31';\n",
    "\"\"\"\n",
    "df4 = pd.read_sql(query, conn)\n",
    "print(df4)\n"
   ]
  },
  {
   "cell_type": "code",
   "execution_count": 38,
   "id": "4dc8be1b-f9df-435a-8fb7-06976845df09",
   "metadata": {},
   "outputs": [
    {
     "name": "stdout",
     "output_type": "stream",
     "text": [
      "                  Rocket ID  total_uses\n",
      "0  5e9d0d95eda69973a809d1ec         179\n",
      "1  5e9d0d95eda69955f709d1eb           5\n",
      "2  5e9d0d95eda69974db09d1ed           3\n"
     ]
    }
   ],
   "source": [
    "query = \"\"\"\n",
    "SELECT \"Rocket ID\", COUNT(*) AS total_uses\n",
    "FROM launches\n",
    "GROUP BY \"Rocket ID\"\n",
    "ORDER BY total_uses DESC;\n",
    "\"\"\"\n",
    "df5 = pd.read_sql(query, conn)\n",
    "print(df5)\n"
   ]
  },
  {
   "cell_type": "code",
   "execution_count": null,
   "id": "b56ea443-ba2f-40f7-ab8b-764c7a3a896c",
   "metadata": {},
   "outputs": [],
   "source": []
  }
 ],
 "metadata": {
  "kernelspec": {
   "display_name": "Python [conda env:base] *",
   "language": "python",
   "name": "conda-base-py"
  },
  "language_info": {
   "codemirror_mode": {
    "name": "ipython",
    "version": 3
   },
   "file_extension": ".py",
   "mimetype": "text/x-python",
   "name": "python",
   "nbconvert_exporter": "python",
   "pygments_lexer": "ipython3",
   "version": "3.12.2"
  }
 },
 "nbformat": 4,
 "nbformat_minor": 5
}
