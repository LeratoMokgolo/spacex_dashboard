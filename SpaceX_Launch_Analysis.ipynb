{
 "cells": [
  {
   "cell_type": "code",
   "execution_count": null,
   "id": "88c69efe-1c59-43af-8606-16ea69d13f28",
   "metadata": {},
   "outputs": [],
   "source": [
    "import pandas as pd\n",
    "\n",
    "# Load the dataset again (use the original file)\n",
    "df = pd.read_csv(\"spacex_launch_data.csv\")  # If you have the original file\n",
    "\n",
    "# If you already processed the data before, you may need to redo preprocessing here\n",
    "\n",
    "# Save the DataFrame\n",
    "df.to_csv(\"spacex_launch_data.csv\", index=False)\n",
    "\n",
    "print(\"File saved successfully!\")\n"
   ]
  },
  {
   "cell_type": "code",
   "execution_count": null,
   "id": "6ececa77-bbcf-42c6-b98a-7665a3733965",
   "metadata": {},
   "outputs": [],
   "source": [
    "import pandas as pd\n",
    "import matplotlib.pyplot as plt\n",
    "\n",
    "# Load the dataset\n",
    "df = pd.read_csv(\"spacex_launch_data.csv\")\n",
    "\n",
    "# Plot Flight Number vs Launch Site\n",
    "plt.figure(figsize=(10, 6))\n",
    "plt.scatter(df[\"Flight Number\"], df[\"Launch Site\"], alpha=0.5)\n",
    "plt.xlabel(\"Flight Number\")\n",
    "plt.ylabel(\"Launch Site\")\n",
    "plt.title(\"Flight Number vs. Launch Site\")\n",
    "plt.grid(True)\n",
    "plt.show()\n"
   ]
  },
  {
   "cell_type": "code",
   "execution_count": null,
   "id": "bf8f7ab0-e881-4a41-b3b9-4aa364a01bb3",
   "metadata": {},
   "outputs": [],
   "source": [
    "import pandas as pd\n",
    "\n",
    "# Load dataset\n",
    "df = pd.read_csv(\"spacex_launch_data.csv\")\n",
    "\n",
    "# Print column names\n",
    "print(df.columns)\n"
   ]
  },
  {
   "cell_type": "code",
   "execution_count": null,
   "id": "887a935a-1630-4ef5-9623-54cb31e1bb77",
   "metadata": {},
   "outputs": [],
   "source": [
    "import pandas as pd\n",
    "import matplotlib.pyplot as plt\n",
    "\n",
    "# Load dataset\n",
    "df = pd.read_csv(\"spacex_launch_data.csv\")\n",
    "\n",
    "# Plot Payload Mass vs Launch Site\n",
    "plt.figure(figsize=(10, 6))\n",
    "plt.scatter(df[\"Payload Mass (kg)\"], df[\"Launch Site\"], alpha=0.5)\n",
    "plt.xlabel(\"Payload Mass (kg)\")\n",
    "plt.ylabel(\"Launch Site\")\n",
    "plt.title(\"Payload Mass vs. Launch Site\")\n",
    "plt.grid(True)\n",
    "plt.show()\n"
   ]
  },
  {
   "cell_type": "code",
   "execution_count": null,
   "id": "c1b6f24b-6df8-4de2-9cc9-1f1832d3aab2",
   "metadata": {},
   "outputs": [],
   "source": [
    "import pandas as pd\n",
    "import matplotlib.pyplot as plt\n",
    "\n",
    "# Load dataset\n",
    "df = pd.read_csv(\"spacex_launch_data.csv\")\n",
    "\n",
    "# Convert Launch Site to categorical\n",
    "df[\"Launch Site\"] = df[\"Launch Site\"].astype(\"category\")\n",
    "\n",
    "# Plot Payload Mass vs Launch Site\n",
    "plt.figure(figsize=(12, 6))\n",
    "plt.scatter(df[\"Payload Mass (kg)\"], df[\"Launch Site\"], alpha=0.5)\n",
    "\n",
    "# Set labels and title\n",
    "plt.xlabel(\"Payload Mass (kg)\")\n",
    "plt.ylabel(\"Launch Site\")\n",
    "plt.title(\"Payload Mass vs. Launch Site\")\n",
    "\n",
    "# Adjust x-axis ticks to avoid overlap\n",
    "plt.xticks(rotation=45)\n",
    "plt.grid(True)\n",
    "\n",
    "# Reduce number of x-ticks for better readability\n",
    "plt.locator_params(axis='x', nbins=10)\n",
    "\n",
    "plt.show()\n"
   ]
  },
  {
   "cell_type": "code",
   "execution_count": null,
   "id": "c26e2ad2-0ba4-4e1b-8ddd-06881382ace9",
   "metadata": {},
   "outputs": [],
   "source": [
    "import pandas as pd\n",
    "import matplotlib.pyplot as plt\n",
    "\n",
    "# Load dataset\n",
    "df = pd.read_csv(\"spacex_launch_data.csv\")\n",
    "\n",
    "# Convert Launch Site to categorical\n",
    "df[\"Launch Site\"] = df[\"Launch Site\"].astype(\"category\")\n",
    "\n",
    "# Plot Payload Mass vs Launch Site\n",
    "plt.figure(figsize=(12, 6))\n",
    "plt.scatter(df[\"Payload Mass (kg)\"], df[\"Launch Site\"], alpha=0.5)\n",
    "\n",
    "# Set labels and title\n",
    "plt.xlabel(\"Payload Mass (kg)\")\n",
    "plt.ylabel(\"Launch Site\")\n",
    "plt.title(\"Payload Mass vs. Launch Site\")\n",
    "\n",
    "# Adjust x-axis ticks to avoid overlap\n",
    "plt.xticks(rotation=45)\n",
    "plt.grid(True)\n",
    "\n",
    "# Reduce number of x-ticks for better readability\n",
    "plt.locator_params(axis='x', nbins=10)\n",
    "\n",
    "plt.show()\n"
   ]
  },
  {
   "cell_type": "code",
   "execution_count": null,
   "id": "632bab67-1702-4943-978e-e1534593c90e",
   "metadata": {},
   "outputs": [],
   "source": [
    "import pandas as pd\n",
    "import matplotlib.pyplot as plt\n",
    "\n",
    "# Load dataset\n",
    "df = pd.read_csv(\"spacex_launch_data.csv\")\n",
    "\n",
    "# Convert Launch Site IDs to readable categorical names\n",
    "df[\"Launch Site\"] = df[\"Launch Site\"].astype(\"category\")\n",
    "\n",
    "# Plot Payload Mass vs Launch Site\n",
    "plt.figure(figsize=(10, 6))\n",
    "plt.scatter(df[\"Payload Mass (kg)\"], df[\"Launch Site\"], alpha=0.5)\n",
    "plt.xlabel(\"Payload Mass (kg)\")\n",
    "plt.ylabel(\"Launch Site\")\n",
    "plt.title(\"Payload Mass vs. Launch Site\")\n",
    "\n",
    "# Improve readability of x-axis\n",
    "plt.xticks(rotation=45)\n",
    "plt.grid(True)\n",
    "\n",
    "plt.show()\n"
   ]
  },
  {
   "cell_type": "code",
   "execution_count": null,
   "id": "0076710e-76cc-4df9-a050-acf9e245dbba",
   "metadata": {},
   "outputs": [],
   "source": [
    "import pandas as pd\n",
    "import matplotlib.pyplot as plt\n",
    "\n",
    "# Load dataset\n",
    "df = pd.read_csv(\"spacex_launch_data.csv\")\n",
    "\n",
    "# Convert Launch Site to categorical for better visualization\n",
    "df[\"Launch Site\"] = df[\"Launch Site\"].astype(\"category\")\n",
    "\n",
    "# Plot Payload Mass vs Launch Site\n",
    "plt.figure(figsize=(10, 6))\n",
    "plt.scatter(df[\"Payload Mass (kg)\"], df[\"Launch Site\"], alpha=0.5)\n",
    "\n",
    "# Set labels and title\n",
    "plt.xlabel(\"Payload Mass (kg)\")\n",
    "plt.ylabel(\"Launch Site\")\n",
    "plt.title(\"Payload Mass vs. Launch Site\")\n",
    "\n",
    "# Improve x-axis readability\n",
    "plt.xticks(rotation=45)\n",
    "plt.grid(True)\n",
    "\n",
    "plt.show()\n"
   ]
  },
  {
   "cell_type": "code",
   "execution_count": null,
   "id": "222cd060-c5b4-49b9-8a4a-5dbbcc7f4ae7",
   "metadata": {},
   "outputs": [],
   "source": [
    "import pandas as pd\n",
    "import matplotlib.pyplot as plt\n",
    "\n",
    "# Load dataset\n",
    "df = pd.read_csv(\"spacex_launch_data.csv\")\n",
    "\n",
    "# Ensure 'Success' column is numeric\n",
    "df[\"Success\"] = pd.to_numeric(df[\"Success\"], errors=\"coerce\")\n",
    "\n",
    "# Group by Orbit Type and calculate success rate\n",
    "df[\"Orbit\"] = df[\"Rocket ID\"]  # Assuming 'Orbit' column is missing, using Rocket ID as placeholder\n",
    "success_rates = df.groupby(\"Orbit\")[\"Success\"].mean() * 100  # Convert to percentage\n",
    "\n",
    "# Plot Success Rate vs Orbit Type\n",
    "plt.figure(figsize=(10, 6))\n",
    "success_rates.plot(kind=\"bar\", color=\"skyblue\", edgecolor=\"black\")\n",
    "\n",
    "# Labels and title\n",
    "plt.xlabel(\"Orbit Type\")\n",
    "plt.ylabel(\"Success Rate (%)\")\n",
    "plt.title(\"Success Rate vs. Orbit Type\")\n",
    "plt.xticks(rotation=45)\n",
    "plt.grid(axis=\"y\", linestyle=\"--\", alpha=0.7)\n",
    "\n",
    "# Show plot\n",
    "plt.show()\n"
   ]
  },
  {
   "cell_type": "code",
   "execution_count": null,
   "id": "b77a0a6b-50db-4309-9fbe-3aeca51d9acc",
   "metadata": {},
   "outputs": [],
   "source": [
    "import pandas as pd\n",
    "import matplotlib.pyplot as plt\n",
    "\n",
    "# Load dataset\n",
    "df = pd.read_csv(\"spacex_launch_data.csv\")\n",
    "\n",
    "# Ensure 'Flight Number' and 'Orbit' exist (adjust if necessary)\n",
    "df[\"Flight Number\"] = df.index + 1  # If Flight Number is missing, use index as a placeholder\n",
    "\n",
    "# Plot Flight Number vs Orbit Type\n",
    "plt.figure(figsize=(10, 6))\n",
    "plt.scatter(df[\"Flight Number\"], df[\"Rocket ID\"], alpha=0.5, color=\"blue\", edgecolor=\"black\")  # Assuming Orbit is 'Rocket ID'\n",
    "plt.xlabel(\"Flight Number\")\n",
    "plt.ylabel(\"Orbit Type\")\n",
    "plt.title(\"Flight Number vs. Orbit Type\")\n",
    "plt.grid(True)\n",
    "\n",
    "# Show plot\n",
    "plt.show()\n"
   ]
  },
  {
   "cell_type": "code",
   "execution_count": null,
   "id": "3cc3ace1-b974-4aeb-8349-5ac044492dd0",
   "metadata": {},
   "outputs": [],
   "source": [
    "import pandas as pd\n",
    "import matplotlib.pyplot as plt\n",
    "\n",
    "# Load dataset\n",
    "df = pd.read_csv(\"spacex_launch_data.csv\")\n",
    "\n",
    "# Ensure the columns exist\n",
    "if \"Payload Mass (kg)\" in df.columns and \"Orbit\" in df.columns:\n",
    "    # Plot Payload vs Orbit Type\n",
    "    plt.figure(figsize=(10, 6))\n",
    "    plt.scatter(df[\"Payload Mass (kg)\"], df[\"Orbit\"], alpha=0.5, color=\"blue\", edgecolor=\"black\")\n",
    "    plt.xlabel(\"Payload Mass (kg)\")\n",
    "    plt.ylabel(\"Orbit Type\")\n",
    "    plt.title(\"Payload vs. Orbit Type\")\n",
    "    plt.grid(True)\n",
    "    \n",
    "    # Show plot\n",
    "    plt.show()\n",
    "else:\n",
    "    print(\"Columns not found in dataset. Please check column names.\")\n"
   ]
  },
  {
   "cell_type": "code",
   "execution_count": null,
   "id": "ecb52b9a-c76d-40bf-81ff-5135da03b33d",
   "metadata": {},
   "outputs": [],
   "source": [
    "import pandas as pd\n",
    "\n",
    "df = pd.read_csv(\"spacex_launch_data.csv\")\n",
    "print(df.columns)\n"
   ]
  },
  {
   "cell_type": "code",
   "execution_count": null,
   "id": "ff2f9893-2b8d-4756-9386-412425eb558d",
   "metadata": {},
   "outputs": [],
   "source": [
    "import pandas as pd\n",
    "import matplotlib.pyplot as plt\n",
    "import seaborn as sns\n",
    "\n",
    "# Load dataset\n",
    "df = pd.read_csv(\"spacex_launch_data.csv\")\n",
    "\n",
    "# Convert Success column to categorical if not already\n",
    "df[\"Success\"] = df[\"Success\"].astype(str)  # Ensure it's treated as a category\n",
    "\n",
    "# Create the Box Plot\n",
    "plt.figure(figsize=(10, 6))\n",
    "sns.boxplot(x=df[\"Success\"], y=df[\"Payload Mass (kg)\"], palette=\"Set2\")\n",
    "\n",
    "# Labels and Title\n",
    "plt.xlabel(\"Launch Success (0 = Failed, 1 = Successful)\")\n",
    "plt.ylabel(\"Payload Mass (kg)\")\n",
    "plt.title(\"Payload Mass vs. Success\")\n",
    "\n",
    "# Show plot\n",
    "plt.grid(axis=\"y\", linestyle=\"--\", alpha=0.7)\n",
    "plt.show()\n"
   ]
  },
  {
   "cell_type": "code",
   "execution_count": null,
   "id": "bc07a4b0-da52-456c-8851-4fd531d5620e",
   "metadata": {},
   "outputs": [],
   "source": [
    "import pandas as pd\n",
    "import matplotlib.pyplot as plt\n",
    "\n",
    "# Load dataset\n",
    "df = pd.read_csv(\"spacex_launch_data.csv\")\n",
    "\n",
    "# Convert Launch Date to datetime format\n",
    "df['Launch Date'] = pd.to_datetime(df['Launch Date'])\n",
    "\n",
    "# Extract the Year\n",
    "df['Year'] = df['Launch Date'].dt.year\n",
    "\n",
    "# Compute yearly success rate\n",
    "yearly_success = df.groupby('Year')['Success'].mean()\n",
    "\n",
    "# Plot the success rate over years\n",
    "plt.figure(figsize=(10, 6))\n",
    "plt.plot(yearly_success.index, yearly_success.values, marker='o', linestyle='-', color='blue')\n",
    "\n",
    "# Labels and title\n",
    "plt.xlabel(\"Year\")\n",
    "plt.ylabel(\"Success Rate\")\n",
    "plt.title(\"Launch Success Yearly Trend\")\n",
    "plt.grid(True)\n",
    "\n",
    "# Show the plot\n",
    "plt.show()\n"
   ]
  },
  {
   "cell_type": "code",
   "execution_count": null,
   "id": "9d6bce81-4a0e-4d2a-9a08-94d0749a58d9",
   "metadata": {},
   "outputs": [],
   "source": [
    "import pandas as pd\n",
    "\n",
    "# Load dataset\n",
    "df = pd.read_csv(\"spacex_launch_data.csv\")\n",
    "\n",
    "# Get unique launch site names\n",
    "unique_launch_sites = df[\"Launch Site\"].unique()\n",
    "\n",
    "# Display result\n",
    "print(\"Unique Launch Sites:\")\n",
    "for site in unique_launch_sites:\n",
    "    print(site)\n"
   ]
  },
  {
   "cell_type": "code",
   "execution_count": null,
   "id": "01d098ea-8f14-4fae-9570-3c907ab22e69",
   "metadata": {},
   "outputs": [],
   "source": [
    "# Filter launch sites that start with 'CCA'\n",
    "cca_sites = df[df[\"Launch Site\"].str.startswith(\"CCA\")]\n",
    "\n",
    "# Display the first 5 records\n",
    "print(cca_sites.head(5))\n"
   ]
  },
  {
   "cell_type": "code",
   "execution_count": null,
   "id": "b1422f03-0e90-4b46-b071-2ef9df0862ed",
   "metadata": {},
   "outputs": [],
   "source": [
    "print(df[\"Launch Site\"].unique())\n"
   ]
  },
  {
   "cell_type": "code",
   "execution_count": null,
   "id": "099ea0f1-d728-4368-8fe2-71a350d797e0",
   "metadata": {},
   "outputs": [],
   "source": [
    "total_payload_mass = df[\"Payload Mass (kg)\"].sum()\n",
    "print(f\"Total Payload Mass: {total_payload_mass} kg\")\n"
   ]
  },
  {
   "cell_type": "code",
   "execution_count": null,
   "id": "e7e36487-1de5-4737-ab01-49cea56927a5",
   "metadata": {},
   "outputs": [],
   "source": [
    "print(df.columns)\n"
   ]
  },
  {
   "cell_type": "code",
   "execution_count": null,
   "id": "05601c64-0722-4991-81fa-e65fc03e4706",
   "metadata": {},
   "outputs": [],
   "source": [
    "total_payload_mass = df[\"Payload Mass (kg)\"].sum()\n",
    "print(f\"Total Payload Mass Across All Launches: {total_payload_mass} kg\")\n"
   ]
  },
  {
   "cell_type": "code",
   "execution_count": null,
   "id": "79b7e6ee-a243-436d-9410-cb25dd2d0cdb",
   "metadata": {},
   "outputs": [],
   "source": [
    "print(df[\"Payload Mass (kg)\"].dtype)\n"
   ]
  },
  {
   "cell_type": "code",
   "execution_count": null,
   "id": "4f62dec0-4c07-4fe3-aa04-0cfd924f85a8",
   "metadata": {},
   "outputs": [],
   "source": [
    "df[\"Payload Mass (kg)\"] = pd.to_numeric(df[\"Payload Mass (kg)\"], errors=\"coerce\")\n"
   ]
  },
  {
   "cell_type": "code",
   "execution_count": null,
   "id": "e58cbb7b-4f1a-4e1f-9114-935a3c3d4c17",
   "metadata": {},
   "outputs": [],
   "source": [
    "total_payload_mass = df[\"Payload Mass (kg)\"].sum()\n",
    "print(f\"Total Payload Mass Across All Launches: {total_payload_mass} kg\")\n"
   ]
  },
  {
   "cell_type": "code",
   "execution_count": null,
   "id": "26e8cf82-9266-47a7-b7ce-db33a4b4d518",
   "metadata": {},
   "outputs": [],
   "source": [
    "print(df[\"Payload Mass (kg)\"].unique())\n"
   ]
  },
  {
   "cell_type": "code",
   "execution_count": null,
   "id": "c1184561-30c2-441b-9ebe-5e33343ab186",
   "metadata": {},
   "outputs": [],
   "source": [
    "df[\"Payload Mass (kg)\"] = pd.to_numeric(df[\"Payload Mass (kg)\"], errors=\"coerce\")\n"
   ]
  },
  {
   "cell_type": "code",
   "execution_count": null,
   "id": "09bf0afc-7e37-45d6-b01e-9788da3373c1",
   "metadata": {},
   "outputs": [],
   "source": [
    "print(df[\"Payload Mass (kg)\"].isna().sum())\n"
   ]
  },
  {
   "cell_type": "code",
   "execution_count": null,
   "id": "54d89699-9235-4e49-836c-6e0d158d3eef",
   "metadata": {},
   "outputs": [],
   "source": [
    "print(df[\"Payload Mass (kg)\"].isna().sum())\n"
   ]
  },
  {
   "cell_type": "code",
   "execution_count": null,
   "id": "2157287c-21d5-405e-8d8d-9b06dfe9ec98",
   "metadata": {},
   "outputs": [],
   "source": [
    "print(df[\"Payload Mass (kg)\"].head(10))\n"
   ]
  },
  {
   "cell_type": "code",
   "execution_count": null,
   "id": "b41fe049-5faf-4484-aea0-80966c346232",
   "metadata": {},
   "outputs": [],
   "source": [
    "print(df[\"Payload Mass (kg)\"].head(20))  # See the actual values\n",
    "print(df[\"Payload Mass (kg)\"].dtype)  # Check data type\n"
   ]
  },
  {
   "cell_type": "code",
   "execution_count": null,
   "id": "54d07a8c-4080-4c9b-9b71-ab8929cccc98",
   "metadata": {},
   "outputs": [],
   "source": [
    "print(df[\"Payload Mass (kg)\"].isna().sum())  # Count missing values\n",
    "print(df[\"Payload Mass (kg)\"].head(10))  # See sample values before conversion\n"
   ]
  },
  {
   "cell_type": "code",
   "execution_count": null,
   "id": "c9c35738-a35e-4388-b3c8-6d71a65050b6",
   "metadata": {},
   "outputs": [],
   "source": [
    "print(df[\"Payload Mass (kg)\"].unique())  # See all unique values\n"
   ]
  },
  {
   "cell_type": "code",
   "execution_count": null,
   "id": "05da0408-e88a-4068-bfb3-860f4ba3419f",
   "metadata": {},
   "outputs": [],
   "source": [
    "df[\"Payload Mass (kg)\"] = df[\"Payload Mass (kg)\"].str.strip()  # Remove spaces\n",
    "df[\"Payload Mass (kg)\"] = pd.to_numeric(df[\"Payload Mass (kg)\"], errors=\"coerce\")\n"
   ]
  },
  {
   "cell_type": "code",
   "execution_count": null,
   "id": "ef273303-3217-4298-95b6-d692747acf2d",
   "metadata": {},
   "outputs": [],
   "source": [
    "df[\"Payload Mass (kg)\"] = pd.to_numeric(df[\"Payload Mass (kg)\"], errors=\"coerce\")\n",
    "total_payload_mass = df[\"Payload Mass (kg)\"].sum()\n",
    "print(f\"Total Payload Mass Across All Launches: {total_payload_mass} kg\")\n"
   ]
  },
  {
   "cell_type": "code",
   "execution_count": null,
   "id": "4c5707b6-701b-4c49-840d-8dcc94a19d6d",
   "metadata": {},
   "outputs": [],
   "source": [
    "print(df[\"Payload Mass (kg)\"].isna().sum())  # How many NaNs?\n",
    "print(df[[\"Payload Mass (kg)\"]].head(10))  # Check first few rows\n"
   ]
  },
  {
   "cell_type": "code",
   "execution_count": null,
   "id": "f88c91e4-a6c2-4e60-9969-16cb6983a5cd",
   "metadata": {},
   "outputs": [],
   "source": [
    "print(df.head(10))\n"
   ]
  },
  {
   "cell_type": "code",
   "execution_count": null,
   "id": "eb8d64c1-b869-485e-9cb9-dbb86023b0a1",
   "metadata": {},
   "outputs": [],
   "source": [
    "print(df[\"Payload Mass (kg)\"].dropna().head(10))\n"
   ]
  },
  {
   "cell_type": "code",
   "execution_count": null,
   "id": "63b41770-3703-47a0-b230-df22c79473d4",
   "metadata": {},
   "outputs": [],
   "source": [
    "print(df[\"Payload Mass (kg)\"].notna().sum())\n"
   ]
  },
  {
   "cell_type": "code",
   "execution_count": null,
   "id": "24ea373f-cde0-4f46-9666-d57d9d62970b",
   "metadata": {},
   "outputs": [],
   "source": [
    "df = pd.read_csv(\"your_dataset.csv\")  # or\n",
    "df = pd.read_excel(\"your_dataset.xlsx\")\n"
   ]
  },
  {
   "cell_type": "code",
   "execution_count": null,
   "id": "0b2e4202-f90e-4be4-aa8f-b16d9e974041",
   "metadata": {},
   "outputs": [],
   "source": [
    "import os\n",
    "print(os.listdir())\n"
   ]
  },
  {
   "cell_type": "code",
   "execution_count": null,
   "id": "398f9b31-9db9-4d7c-a433-1c881ce75ac1",
   "metadata": {},
   "outputs": [],
   "source": [
    "import pandas as pd\n",
    "\n",
    "df = pd.read_csv(\"spacex_raw_data.csv\")\n",
    "print(df.head())  # Display the first few rows\n"
   ]
  },
  {
   "cell_type": "code",
   "execution_count": null,
   "id": "e23faeb1-6ac3-46fd-96a6-a3b1f93597f3",
   "metadata": {},
   "outputs": [],
   "source": [
    "print(df.columns)\n"
   ]
  },
  {
   "cell_type": "code",
   "execution_count": null,
   "id": "a505d995-a349-4334-82d6-05e4a1349821",
   "metadata": {},
   "outputs": [],
   "source": [
    "[col for col in df.columns if \"payload\" in col.lower()]\n"
   ]
  },
  {
   "cell_type": "code",
   "execution_count": null,
   "id": "ac79dec5-d0df-4670-85f1-cce6d3714b11",
   "metadata": {},
   "outputs": [],
   "source": [
    "print(df[\"payloads\"].head())\n"
   ]
  },
  {
   "cell_type": "code",
   "execution_count": null,
   "id": "ef857145-a5b6-4127-9ede-b3f19a09c899",
   "metadata": {},
   "outputs": [],
   "source": [
    "import os\n",
    "print(os.listdir())  # Check if a related dataset is available\n"
   ]
  },
  {
   "cell_type": "code",
   "execution_count": null,
   "id": "86b0e6f3-ba82-49c3-9bdd-f9465675a4aa",
   "metadata": {},
   "outputs": [],
   "source": [
    "import sqlite3\n",
    "\n",
    "conn = sqlite3.connect(\"spacex_launches.db\")  # Connect to the database\n",
    "tables = conn.execute(\"SELECT name FROM sqlite_master WHERE type='table';\").fetchall()\n",
    "print(tables)  # List available tables\n"
   ]
  },
  {
   "cell_type": "code",
   "execution_count": null,
   "id": "35bb99cc-0df4-4a9b-b975-98d62a3807e5",
   "metadata": {},
   "outputs": [],
   "source": [
    "query = \"SELECT * FROM launches LIMIT 5;\"\n",
    "df_launches = pd.read_sql(query, conn)\n",
    "print(df_launches.head())\n"
   ]
  },
  {
   "cell_type": "code",
   "execution_count": null,
   "id": "190d9f34-ee94-4dfc-8de0-9bb7de761102",
   "metadata": {},
   "outputs": [],
   "source": [
    "query = \"SELECT DISTINCT `Payload Mass (kg)` FROM launches;\"\n",
    "df_distinct = pd.read_sql(query, conn)\n",
    "print(df_distinct)\n"
   ]
  },
  {
   "cell_type": "code",
   "execution_count": null,
   "id": "228d298e-bbd5-4cf9-9363-1261ea25b876",
   "metadata": {},
   "outputs": [],
   "source": [
    "import os\n",
    "print(os.listdir())  # Look for related datasets\n"
   ]
  },
  {
   "cell_type": "code",
   "execution_count": null,
   "id": "df2f38a6-8103-4fc9-97ec-085fbfbe9727",
   "metadata": {},
   "outputs": [],
   "source": [
    "pip install requests\n"
   ]
  },
  {
   "cell_type": "code",
   "execution_count": null,
   "id": "0f81eb0b-a760-4326-9c5c-5b0aec7ecc6d",
   "metadata": {},
   "outputs": [],
   "source": [
    "import requests\n",
    "import pandas as pd\n",
    "\n",
    "# SpaceX API endpoint for payloads\n",
    "url = \"https://api.spacexdata.com/v4/payloads\"\n",
    "\n",
    "# Fetch data\n",
    "response = requests.get(url)\n",
    "\n",
    "# Convert to JSON\n",
    "payload_data = response.json()\n",
    "\n",
    "# Convert to DataFrame\n",
    "df_payloads = pd.DataFrame(payload_data)\n",
    "\n",
    "# Display columns to identify relevant data\n",
    "print(df_payloads.columns)\n",
    "\n",
    "# Preview data\n",
    "print(df_payloads[[\"id\", \"name\", \"mass_kg\"]].head())  # Check payload mass\n"
   ]
  },
  {
   "cell_type": "code",
   "execution_count": null,
   "id": "321b3441-c2e1-447e-860d-ab13215754f8",
   "metadata": {},
   "outputs": [],
   "source": [
    "# Rename 'id' column to match your dataset's payloads column\n",
    "df_payloads.rename(columns={\"id\": \"payload_id\"}, inplace=True)\n",
    "\n",
    "# Explode payloads list if necessary\n",
    "df[\"payloads\"] = df[\"payloads\"].apply(lambda x: x[0] if isinstance(x, list) and len(x) > 0 else x)\n",
    "\n",
    "# Merge datasets on payload ID\n",
    "df = df.merge(df_payloads[[\"payload_id\", \"mass_kg\"]], left_on=\"payloads\", right_on=\"payload_id\", how=\"left\")\n",
    "\n",
    "# Compute total payload mass\n",
    "total_payload_mass = df[\"mass_kg\"].sum()\n",
    "print(f\"Total Payload Mass: {total_payload_mass} kg\")\n"
   ]
  },
  {
   "cell_type": "code",
   "execution_count": null,
   "id": "2f197dbe-3d54-447e-9b74-cc3c658f9503",
   "metadata": {},
   "outputs": [],
   "source": [
    "import pandas as pd\n",
    "\n",
    "# Reload your main dataset (replace with actual filename)\n",
    "df = pd.read_csv(\"spacex_raw_data.csv\")  # Use the correct file name\n",
    "\n",
    "# Ensure 'payloads' column exists before proceeding\n",
    "print(df.head())\n"
   ]
  },
  {
   "cell_type": "code",
   "execution_count": null,
   "id": "eddb9576-a24d-4e2a-a6c0-0f2317b274a8",
   "metadata": {},
   "outputs": [],
   "source": [
    "# Rename 'id' column to match your dataset's payloads column\n",
    "df_payloads.rename(columns={\"id\": \"payload_id\"}, inplace=True)\n",
    "\n",
    "# Explode payloads list if necessary\n",
    "df[\"payloads\"] = df[\"payloads\"].apply(lambda x: x[0] if isinstance(x, list) and len(x) > 0 else x)\n",
    "\n",
    "# Merge datasets on payload ID\n",
    "df = df.merge(df_payloads[[\"payload_id\", \"mass_kg\"]], left_on=\"payloads\", right_on=\"payload_id\", how=\"left\")\n",
    "\n",
    "# Compute total payload mass\n",
    "total_payload_mass = df[\"mass_kg\"].sum()\n",
    "print(f\"Total Payload Mass: {total_payload_mass} kg\")\n"
   ]
  },
  {
   "cell_type": "code",
   "execution_count": null,
   "id": "84ffad6a-8100-4bbe-8a35-ac3cb9df4243",
   "metadata": {},
   "outputs": [],
   "source": [
    "import requests\n",
    "import pandas as pd\n",
    "\n",
    "# SpaceX API endpoint for payloads\n",
    "url = \"https://api.spacexdata.com/v4/payloads\"\n",
    "\n",
    "# Fetch data\n",
    "response = requests.get(url)\n",
    "\n",
    "# Convert to JSON\n",
    "payload_data = response.json()\n",
    "\n",
    "# Convert to DataFrame\n",
    "df_payloads = pd.DataFrame(payload_data)\n",
    "\n",
    "# Display the structure of payload data\n",
    "print(df_payloads[[\"id\", \"name\", \"mass_kg\"]].head())\n"
   ]
  },
  {
   "cell_type": "code",
   "execution_count": null,
   "id": "416ce780-f88f-4b3a-b9af-81e4486eb4f9",
   "metadata": {},
   "outputs": [],
   "source": [
    "total_payload_mass = df_payloads[\"mass_kg\"].sum()\n",
    "print(f\"Total Payload Mass from SpaceX API: {total_payload_mass} kg\")\n"
   ]
  },
  {
   "cell_type": "code",
   "execution_count": null,
   "id": "5210ca3b-881f-48e6-b823-a5e48e133585",
   "metadata": {},
   "outputs": [],
   "source": [
    "df_nasa = df_payloads[df_payloads[\"customers\"].astype(str).str.contains(\"NASA\", na=False)]\n",
    "nasa_payload_mass = df_nasa[\"mass_kg\"].sum()\n",
    "print(f\"Total Payload Mass for NASA: {nasa_payload_mass} kg\")\n"
   ]
  },
  {
   "cell_type": "code",
   "execution_count": null,
   "id": "7bf153ca-df92-4e08-b744-93e8aa82dc33",
   "metadata": {},
   "outputs": [],
   "source": [
    "import matplotlib.pyplot as plt\n",
    "\n",
    "# Data\n",
    "categories = [\"Total SpaceX Payloads\", \"NASA Payloads\"]\n",
    "values = [1330836.55, 100131.7]\n",
    "\n",
    "# Plot\n",
    "plt.figure(figsize=(8, 5))\n",
    "plt.bar(categories, values, color=[\"blue\", \"orange\"])\n",
    "plt.ylabel(\"Mass (kg)\")\n",
    "plt.title(\"Total Payload Mass Comparison\")\n",
    "plt.show()\n"
   ]
  },
  {
   "cell_type": "code",
   "execution_count": null,
   "id": "d5eb13f9-3a8c-4ee1-a8a6-72f68efa5bff",
   "metadata": {},
   "outputs": [],
   "source": [
    "import requests\n",
    "import pandas as pd\n",
    "\n",
    "# Fetch payload data from SpaceX API\n",
    "url = \"https://api.spacexdata.com/v4/payloads\"\n",
    "response = requests.get(url)\n",
    "payload_data = response.json()\n",
    "\n",
    "# Convert to DataFrame\n",
    "df_payloads = pd.DataFrame(payload_data)\n",
    "\n",
    "# Preview data\n",
    "print(df_payloads.columns)\n",
    "print(df_payloads[[\"id\", \"name\", \"mass_kg\", \"launch\", \"type\"]].head())\n"
   ]
  },
  {
   "cell_type": "code",
   "execution_count": null,
   "id": "0923dccf-c196-4d9a-879d-5861c8a5abe6",
   "metadata": {},
   "outputs": [],
   "source": [
    "# Fetch launch data\n",
    "url_launches = \"https://api.spacexdata.com/v4/launches\"\n",
    "response_launches = requests.get(url_launches)\n",
    "launch_data = response_launches.json()\n",
    "\n",
    "# Convert to DataFrame\n",
    "df_launches = pd.DataFrame(launch_data)\n",
    "\n",
    "# Preview available columns\n",
    "print(df_launches.columns)\n"
   ]
  },
  {
   "cell_type": "code",
   "execution_count": null,
   "id": "d4161ba2-427a-4d22-82e5-a1fcac7a329f",
   "metadata": {},
   "outputs": [],
   "source": [
    "# Check booster version column\n",
    "print(df_launches[[\"id\", \"name\", \"rocket\"]].head())\n",
    "\n",
    "# Fetch rocket details to find \"F9 v1.1\"\n",
    "url_rockets = \"https://api.spacexdata.com/v4/rockets\"\n",
    "response_rockets = requests.get(url_rockets)\n",
    "df_rockets = pd.DataFrame(response_rockets.json())\n",
    "\n",
    "# Check which rocket corresponds to F9 v1.1\n",
    "print(df_rockets[[\"id\", \"name\"]])\n",
    "\n",
    "# Get the Rocket ID for \"F9 v1.1\"\n",
    "f9_v1_1_id = df_rockets[df_rockets[\"name\"] == \"Falcon 9 v1.1\"][\"id\"].values[0]\n",
    "\n",
    "# Filter launches for F9 v1.1\n",
    "df_f9_v1_1_launches = df_launches[df_launches[\"rocket\"] == f9_v1_1_id]\n",
    "\n",
    "# Merge with payload data\n",
    "df_f9_payloads = df_payloads[df_payloads[\"launch\"].isin(df_f9_v1_1_launches[\"id\"])]\n",
    "\n",
    "# Compute the average payload mass\n",
    "average_payload_mass = df_f9_payloads[\"mass_kg\"].mean()\n",
    "print(f\"Average Payload Mass for F9 v1.1: {average_payload_mass} kg\")\n"
   ]
  },
  {
   "cell_type": "code",
   "execution_count": null,
   "id": "5d05d2e0-7695-4ef5-bba4-13a59edcfa10",
   "metadata": {},
   "outputs": [],
   "source": [
    "print(df_rockets[\"name\"].unique())  # List all rocket names\n"
   ]
  },
  {
   "cell_type": "code",
   "execution_count": null,
   "id": "f159af7e-6ab4-4cac-9e88-ae70f7ea0e88",
   "metadata": {},
   "outputs": [],
   "source": [
    "# Get the Rocket ID for Falcon 9 (since v1.1 is not explicitly listed)\n",
    "f9_id = df_rockets[df_rockets[\"name\"] == \"Falcon 9\"][\"id\"].values[0]\n",
    "\n",
    "print(f\"Rocket ID for Falcon 9: {f9_id}\")\n"
   ]
  },
  {
   "cell_type": "code",
   "execution_count": null,
   "id": "7f75c237-d924-4aed-9df6-235761b9f38b",
   "metadata": {},
   "outputs": [],
   "source": [
    "# Get launches that used Falcon 9\n",
    "df_f9_launches = df_launches[df_launches[\"rocket\"] == f9_id]\n",
    "\n",
    "# Merge with payload data\n",
    "df_f9_payloads = df_payloads[df_payloads[\"launch\"].isin(df_f9_launches[\"id\"])]\n"
   ]
  },
  {
   "cell_type": "code",
   "execution_count": null,
   "id": "96db6fa7-649b-49cf-99d2-496362225301",
   "metadata": {},
   "outputs": [],
   "source": [
    "# Calculate the average payload mass for Falcon 9 (including v1.1 versions)\n",
    "average_payload_mass = df_f9_payloads[\"mass_kg\"].mean()\n",
    "\n",
    "print(f\"Average Payload Mass for Falcon 9 (including v1.1): {average_payload_mass} kg\")\n"
   ]
  },
  {
   "cell_type": "code",
   "execution_count": null,
   "id": "ff9487da-d85d-45ff-8b85-2fc08c529cef",
   "metadata": {},
   "outputs": [],
   "source": [
    "import requests\n",
    "import pandas as pd\n",
    "\n",
    "# Fetch SpaceX launch data\n",
    "url = \"https://api.spacexdata.com/v4/launches\"\n",
    "response = requests.get(url)\n",
    "launch_data = response.json()\n",
    "\n",
    "# Convert to DataFrame\n",
    "df_launches = pd.DataFrame(launch_data)\n",
    "\n",
    "# Preview data\n",
    "print(df_launches.columns)\n",
    "print(df_launches[[\"id\", \"name\", \"date_utc\", \"success\", \"landing_success\", \"landing_type\"]].head())\n"
   ]
  },
  {
   "cell_type": "code",
   "execution_count": null,
   "id": "cba3e973-59b8-479a-94fd-291d389c9678",
   "metadata": {},
   "outputs": [],
   "source": [
    "print(df_launches.columns)  # List all available columns\n"
   ]
  },
  {
   "cell_type": "code",
   "execution_count": null,
   "id": "d758b92f-2682-4e1d-9d7b-5ada83cdacb8",
   "metadata": {},
   "outputs": [],
   "source": [
    "# Check available columns related to landing\n",
    "for col in df_launches.columns:\n",
    "    if \"land\" in col.lower():\n",
    "        print(col)\n"
   ]
  },
  {
   "cell_type": "code",
   "execution_count": null,
   "id": "7e2f6e0c-6115-4ca8-a6d4-cad2d76c6972",
   "metadata": {},
   "outputs": [],
   "source": [
    "for col in df_launches.columns:\n",
    "    if \"land\" in col.lower():#\n",
    "        print(col)\n"
   ]
  },
  {
   "cell_type": "code",
   "execution_count": null,
   "id": "e64cf2e2-9cd0-43cb-8e73-d46526ff977b",
   "metadata": {},
   "outputs": [],
   "source": [
    "print(df_launches.columns)  # Check all column names\n"
   ]
  },
  {
   "cell_type": "code",
   "execution_count": null,
   "id": "32f66ab0-945b-4fb4-b180-d50b8663763c",
   "metadata": {},
   "outputs": [],
   "source": [
    "print(df_launches[\"fairings\"].head())  # Check if this column contains landing data\n",
    "print(df_launches[\"links\"].head())  # Sometimes landing info is inside 'links'\n"
   ]
  },
  {
   "cell_type": "code",
   "execution_count": null,
   "id": "c056fb34-4f1e-4d8b-ba41-218df82b2f7c",
   "metadata": {},
   "outputs": [],
   "source": [
    "# Extract landing recovery information\n",
    "df_launches[\"recovery_attempt\"] = df_launches[\"fairings\"].apply(lambda x: x.get(\"recovery_attempt\") if isinstance(x, dict) else None)\n",
    "\n",
    "# Check the extracted data\n",
    "print(df_launches[[\"name\", \"date_utc\", \"recovery_attempt\"]].head())\n"
   ]
  },
  {
   "cell_type": "code",
   "execution_count": null,
   "id": "1d068241-7f49-43d3-9b12-b092d67080c2",
   "metadata": {},
   "outputs": [],
   "source": [
    "# Filter for first successful landing\n",
    "df_successful_landings = df_launches[df_launches[\"recovery_attempt\"] == True]\n",
    "\n",
    "# Sort by launch date\n",
    "df_successful_landings = df_successful_landings.sort_values(\"date_utc\")\n",
    "\n",
    "# Get first successful ground landing\n",
    "first_ground_landing = df_successful_landings.iloc[0]\n",
    "\n",
    "# Extract details\n",
    "landing_date = first_ground_landing[\"date_utc\"]\n",
    "mission_name = first_ground_landing[\"name\"]\n",
    "\n",
    "print(f\"First Successful Ground Landing: {mission_name} on {landing_date}\")\n"
   ]
  },
  {
   "cell_type": "code",
   "execution_count": null,
   "id": "391b77af-bdda-4ccc-93b7-27aaae0abe7f",
   "metadata": {},
   "outputs": [],
   "source": [
    "# Check available columns related to landing\n",
    "for col in df_launches.columns:\n",
    "    if \"land\" in col.lower():\n",
    "        print(col)\n"
   ]
  },
  {
   "cell_type": "code",
   "execution_count": null,
   "id": "2737fcf1-165d-44e1-a698-40a8d01b39fa",
   "metadata": {},
   "outputs": [],
   "source": [
    "# Filter for successful drone ship landings\n",
    "df_successful_drone_ship = df_launches[\n",
    "    (df_launches[\"landing_success\"] == True) & \n",
    "    (df_launches[\"landing_type\"] == \"ASDS\") &  # ASDS = Autonomous Spaceport Drone Ship\n",
    "    (df_launches[\"payload_mass_kg\"].between(4000, 6000))\n",
    "]\n",
    "\n",
    "# Extract the booster names\n",
    "booster_names = df_successful_drone_ship[\"name\"].unique()\n",
    "print(\"Boosters with Successful Drone Ship Landing (Payload 4000-6000kg):\")\n",
    "print(booster_names)\n"
   ]
  },
  {
   "cell_type": "code",
   "execution_count": null,
   "id": "64b5ec9b-1d10-4532-81d1-8f40b985674d",
   "metadata": {},
   "outputs": [],
   "source": [
    "print(df_launches.columns)\n"
   ]
  },
  {
   "cell_type": "code",
   "execution_count": null,
   "id": "6081125c-cb9a-4a8d-9ade-e882deda3edd",
   "metadata": {},
   "outputs": [],
   "source": [
    "df_successful_drone_ship = df_launches[\n",
    "    (df_launches[\"success\"] == True) &  # Replace \"success\" if needed\n",
    "    (df_launches[\"landing_type\"] == \"ASDS\") &  # Replace if necessary\n",
    "    (df_launches[\"payload_mass_kg\"].between(4000, 6000))  # Ensure correct column name\n",
    "]\n"
   ]
  },
  {
   "cell_type": "code",
   "execution_count": null,
   "id": "e4d06638-dac8-4969-b57d-51e9a890b096",
   "metadata": {},
   "outputs": [],
   "source": [
    "print(df_launches.columns)\n"
   ]
  },
  {
   "cell_type": "code",
   "execution_count": null,
   "id": "2741ae65-2615-4d83-a2d7-5cf82cb8e438",
   "metadata": {},
   "outputs": [],
   "source": [
    "print(df_launches.head())\n"
   ]
  },
  {
   "cell_type": "code",
   "execution_count": null,
   "id": "0352dcca-f48b-4ebc-a58a-7a991f1a403e",
   "metadata": {},
   "outputs": [],
   "source": [
    "df_successful_drone_ship = df_launches[\n",
    "    (df_launches[\"success\"] == True) &  # Ensure the column exists\n",
    "    (df_launches[\"landpad\"] == \"ASDS\") &  # Replace with the correct column name\n",
    "    (df_launches[\"payload_mass_kg\"].between(4000, 6000))  # Ensure correct column name\n",
    "]\n"
   ]
  },
  {
   "cell_type": "code",
   "execution_count": null,
   "id": "276b325b-bf28-4efa-904d-b4ea11c2bb93",
   "metadata": {},
   "outputs": [],
   "source": [
    "print(df_launches.columns)\n"
   ]
  },
  {
   "cell_type": "code",
   "execution_count": null,
   "id": "4dbc9f29-3c1d-4520-b9e3-8930db8a9834",
   "metadata": {},
   "outputs": [],
   "source": [
    "df_successful_drone_ship = df_launches[\n",
    "    (df_launches[\"success\"] == True) &  # Ensure success column exists\n",
    "    (df_launches[\"rocket\"].notna()) &  # Check if rocket is linked\n",
    "    (df_launches[\"payload_mass_kg\"].between(4000, 6000))  # Ensure correct payload mass column\n",
    "]\n"
   ]
  },
  {
   "cell_type": "code",
   "execution_count": null,
   "id": "75c31631-5e9f-4aa1-9352-c3f1cdde2b39",
   "metadata": {},
   "outputs": [],
   "source": [
    "print(df_launches.columns)\n"
   ]
  },
  {
   "cell_type": "code",
   "execution_count": null,
   "id": "78f01963-cc99-4a88-aa17-67138f60b07c",
   "metadata": {},
   "outputs": [],
   "source": [
    "for col in df_launches.columns:\n",
    "    if \"mass\" in col.lower():\n",
    "        print(col)\n"
   ]
  },
  {
   "cell_type": "code",
   "execution_count": null,
   "id": "3d210f2e-a32f-4057-8d5e-50bdacef31e5",
   "metadata": {},
   "outputs": [],
   "source": [
    "df_successful_drone_ship = df_launches[\n",
    "    (df_launches[\"success\"] == True) &  # Ensure success column exists\n",
    "    (df_launches[\"rocket\"].notna()) &  # Check if rocket is linked\n",
    "    (df_launches[\"mass_kg\"].between(4000, 6000))  # Replace with correct column name\n",
    "]\n"
   ]
  },
  {
   "cell_type": "code",
   "execution_count": null,
   "id": "f25aa6ca-11e4-4703-9a43-67273b3de5ad",
   "metadata": {},
   "outputs": [],
   "source": [
    "for col in df_launches.columns:\n",
    "    if \"mass\" in col.lower():\n",
    "        print(col)\n"
   ]
  },
  {
   "cell_type": "code",
   "execution_count": null,
   "id": "6f8d7723-9d1d-4a0b-a8bf-8da4f7ff0b5b",
   "metadata": {},
   "outputs": [],
   "source": [
    "for col in df_launches.columns:\n",
    "    if \"payload\" in col.lower():\n",
    "        print(col)\n"
   ]
  },
  {
   "cell_type": "code",
   "execution_count": null,
   "id": "b364a309-b595-4b87-9548-01ef8f88aa74",
   "metadata": {},
   "outputs": [],
   "source": [
    "for col in df_launches.columns:\n",
    "    if \"mass\" in col.lower() or \"payload\" in col.lower():\n",
    "        print(col)\n"
   ]
  },
  {
   "cell_type": "code",
   "execution_count": null,
   "id": "14daf5aa-6d44-4859-a654-3550c1f3b3a0",
   "metadata": {},
   "outputs": [],
   "source": [
    "print(df_launches.columns)  # Identify relevant columns\n"
   ]
  },
  {
   "cell_type": "code",
   "execution_count": null,
   "id": "cc32c8dd-1859-4530-ad70-076419844b46",
   "metadata": {},
   "outputs": [],
   "source": [
    "# Check if \"launchpad\" or similar columns exist\n",
    "print(df_launches.columns)\n"
   ]
  },
  {
   "cell_type": "code",
   "execution_count": null,
   "id": "319249b0-c500-4998-bb45-6f72081271c9",
   "metadata": {},
   "outputs": [],
   "source": [
    "df_successful_drone_ship = df_launches[\n",
    "    (df_launches[\"success\"] == True) &  # Ensure the launch was successful\n",
    "    (df_launches[\"launchpad\"].str.contains(\"ASDS\", na=False))  # Look for drone ship landings\n",
    "]\n",
    "\n",
    "booster_names = df_successful_drone_ship[\"rocket\"].unique()\n",
    "print(\"Boosters with Successful Drone Ship Landings:\")\n",
    "print(booster_names)\n"
   ]
  },
  {
   "cell_type": "code",
   "execution_count": null,
   "id": "adfe74e3-5081-4ef5-aace-47438d11c8d1",
   "metadata": {},
   "outputs": [],
   "source": [
    "for col in df_launches.columns:\n",
    "    if \"land\" in col.lower():\n",
    "        print(col)\n"
   ]
  },
  {
   "cell_type": "code",
   "execution_count": null,
   "id": "2f352bd4-851c-45d2-8374-bc7c72e5c3a3",
   "metadata": {},
   "outputs": [],
   "source": [
    "print(df_launches[\"launchpad\"].unique())  # List all unique values in launchpad\n"
   ]
  },
  {
   "cell_type": "code",
   "execution_count": null,
   "id": "9906a56d-3589-46df-9ab8-d876a00966c0",
   "metadata": {},
   "outputs": [],
   "source": [
    "df_mission_outcomes = df_launches[\"success\"].value_counts()\n",
    "print(df_mission_outcomes)\n"
   ]
  },
  {
   "cell_type": "code",
   "execution_count": null,
   "id": "eff90a95-4522-4661-8bf1-c065ab08d741",
   "metadata": {},
   "outputs": [],
   "source": [
    "print(df_launches.columns)  # Check all column names in df_launches\n",
    "print(df_payloads.columns)  # Check all column names in df_payloads (if available)\n"
   ]
  },
  {
   "cell_type": "code",
   "execution_count": null,
   "id": "6845935f-be9b-40e4-ac11-5e51ecdb72d6",
   "metadata": {},
   "outputs": [],
   "source": [
    "max_payload_mass = df_payloads[\"mass_kg\"].max()\n",
    "print(f\"Maximum Payload Mass: {max_payload_mass} kg\")\n"
   ]
  },
  {
   "cell_type": "code",
   "execution_count": null,
   "id": "e2306bad-277a-4202-99eb-06b105481d32",
   "metadata": {},
   "outputs": [],
   "source": [
    "max_payload_boosters = df_payloads[df_payloads[\"mass_kg\"] == max_payload_mass][\"launch\"].unique()\n",
    "print(\"Boosters that carried the maximum payload:\", max_payload_boosters)\n"
   ]
  },
  {
   "cell_type": "code",
   "execution_count": null,
   "id": "89d514fb-1ef8-4930-8865-28764f272b08",
   "metadata": {},
   "outputs": [],
   "source": [
    "df_max_boosters = df_launches[df_launches[\"id\"].isin(max_payload_boosters)][[\"id\", \"rocket\"]]\n",
    "print(df_max_boosters)\n"
   ]
  },
  {
   "cell_type": "code",
   "execution_count": null,
   "id": "16423191-90e1-47b5-baff-46fcbe5d1705",
   "metadata": {},
   "outputs": [],
   "source": [
    "booster_name = df_rockets[df_rockets[\"id\"] == \"5e9d0d95eda69973a809d1ec\"][\"name\"].values[0]\n",
    "print(\"Booster that carried the maximum payload:\", booster_name)\n"
   ]
  },
  {
   "cell_type": "code",
   "execution_count": null,
   "id": "ab338d69-a8fc-42bc-b81d-4b82b0088194",
   "metadata": {},
   "outputs": [],
   "source": [
    "df_launches[\"date_utc\"] = pd.to_datetime(df_launches[\"date_utc\"])  # Convert to datetime\n",
    "df_2015 = df_launches[df_launches[\"date_utc\"].dt.year == 2015]  # Filter for 2015\n"
   ]
  },
  {
   "cell_type": "code",
   "execution_count": null,
   "id": "e580bfb1-6d7e-4bfe-80c1-08d2a2772bdc",
   "metadata": {},
   "outputs": [],
   "source": [
    "df_2015_asds = df_2015[df_2015[\"launchpad\"].str.contains(\"ASDS\", na=False)]\n"
   ]
  },
  {
   "cell_type": "code",
   "execution_count": null,
   "id": "0df7479a-afa6-4efd-9c84-39410bf41b61",
   "metadata": {},
   "outputs": [],
   "source": [
    "df_failed_landings = df_2015_asds[df_2015_asds[\"success\"] == False]\n"
   ]
  },
  {
   "cell_type": "code",
   "execution_count": null,
   "id": "324fbc03-07b7-421e-8f45-aa82b093e256",
   "metadata": {},
   "outputs": [],
   "source": [
    "df_final = df_failed_landings[[\"rocket\", \"launchpad\", \"success\"]]\n",
    "print(df_final)\n"
   ]
  },
  {
   "cell_type": "code",
   "execution_count": null,
   "id": "cdc57e5b-3210-4231-810b-0df2b1363b15",
   "metadata": {},
   "outputs": [],
   "source": [
    "# Convert date to datetime if not already done\n",
    "df_launches[\"date_utc\"] = pd.to_datetime(df_launches[\"date_utc\"])\n",
    "\n",
    "# Filter dataset within the specified date range\n",
    "df_filtered = df_launches[(df_launches[\"date_utc\"] >= \"2010-06-04\") & \n",
    "                          (df_launches[\"date_utc\"] <= \"2017-03-20\")]\n",
    "\n",
    "# Count landing outcomes\n",
    "df_landing_counts = df_filtered[\"success\"].value_counts().reset_index()\n",
    "df_landing_counts.columns = [\"Landing Outcome\", \"Count\"]\n",
    "\n",
    "# Sort in descending order\n",
    "df_landing_counts = df_landing_counts.sort_values(by=\"Count\", ascending=False)\n",
    "\n",
    "# Display results\n",
    "print(df_landing_counts)\n"
   ]
  },
  {
   "cell_type": "code",
   "execution_count": null,
   "id": "009690cb-b955-4d14-9cdc-6d96378d2ef7",
   "metadata": {},
   "outputs": [],
   "source": [
    "pip install folium\n"
   ]
  },
  {
   "cell_type": "code",
   "execution_count": null,
   "id": "e7c78d4e-615f-4fca-a710-274ed7490e5e",
   "metadata": {},
   "outputs": [],
   "source": [
    "!pip install folium\n"
   ]
  },
  {
   "cell_type": "code",
   "execution_count": null,
   "id": "62c26b43-abea-4e33-b314-b9c29550c319",
   "metadata": {},
   "outputs": [],
   "source": [
    "import folium\n",
    "import pandas as pd\n"
   ]
  },
  {
   "cell_type": "code",
   "execution_count": null,
   "id": "8b5c2623-75a3-4c2b-888b-f7a08161f8d7",
   "metadata": {},
   "outputs": [],
   "source": [
    "# Define launch site locations manually (if dataset is missing)\n",
    "launch_sites = pd.DataFrame({\n",
    "    \"Launch Site\": [\"CCAFS LC-40\", \"CCAFS SLC-40\", \"KSC LC-39A\", \"VAFB SLC-4E\"],\n",
    "    \"Latitude\": [28.563197, 28.562302, 28.5721, 34.632834],\n",
    "    \"Longitude\": [-80.576820, -80.577356, -80.5774, -120.610746]\n",
    "})\n"
   ]
  },
  {
   "cell_type": "code",
   "execution_count": null,
   "id": "a084c0ac-0903-4373-999f-2b06f97d0a0e",
   "metadata": {},
   "outputs": [],
   "source": [
    "# Create a folium map centered at an average launch site location\n",
    "map_spacex = folium.Map(location=[28.5, -80.6], zoom_start=4)\n",
    "\n",
    "# Add markers for each launch site\n",
    "for index, row in launch_sites.iterrows():\n",
    "    folium.Marker(\n",
    "        location=[row[\"Latitude\"], row[\"Longitude\"]],\n",
    "        popup=row[\"Launch Site\"],\n",
    "        icon=folium.Icon(color=\"blue\", icon=\"rocket\", prefix=\"fa\")\n",
    "    ).add_to(map_spacex)\n",
    "\n",
    "# Show the map\n",
    "map_spacex\n"
   ]
  },
  {
   "cell_type": "code",
   "execution_count": null,
   "id": "74faa239-485e-4d6d-8775-522faf6c3672",
   "metadata": {},
   "outputs": [],
   "source": [
    "map_spacex.save(\"spacex_launch_sites.html\")\n"
   ]
  },
  {
   "cell_type": "code",
   "execution_count": null,
   "id": "afbbd5e4-b1b7-4d82-9dfb-35ea662328a3",
   "metadata": {},
   "outputs": [],
   "source": [
    "import folium\n",
    "import pandas as pd\n",
    "\n",
    "# Define SpaceX launch sites with coordinates\n",
    "launch_sites = pd.DataFrame({\n",
    "    \"Launch Site\": [\"CCAFS LC-40\", \"CCAFS SLC-40\", \"KSC LC-39A\", \"VAFB SLC-4E\"],\n",
    "    \"Latitude\": [28.563197, 28.562302, 28.5721, 34.632834],\n",
    "    \"Longitude\": [-80.576820, -80.577356, -80.5774, -120.610746]\n",
    "})\n",
    "\n",
    "# Create a folium map centered at an average launch site location\n",
    "map_spacex = folium.Map(location=[28.5, -80.6], zoom_start=5)\n",
    "\n",
    "# Add launch site markers to the map\n",
    "for index, row in launch_sites.iterrows():\n",
    "    folium.Marker(\n",
    "        location=[row[\"Latitude\"], row[\"Longitude\"]],\n",
    "        popup=row[\"Launch Site\"],\n",
    "        icon=folium.Icon(color=\"blue\", icon=\"rocket\", prefix=\"fa\")\n",
    "    ).add_to(map_spacex)\n",
    "\n",
    "# Save the map\n",
    "map_spacex.save(\"spacex_launch_sites.html\")\n",
    "\n",
    "# Show the map\n",
    "map_spacex\n"
   ]
  },
  {
   "cell_type": "code",
   "execution_count": null,
   "id": "bfd7f71b-74c5-41e2-af2b-dc51ab0dfea5",
   "metadata": {},
   "outputs": [],
   "source": [
    "import folium\n",
    "import pandas as pd\n",
    "\n",
    "# Load your SpaceX launch data\n",
    "df_launches = pd.read_csv(\"spacex_launch_data.csv\")  # Change filename accordingly\n",
    "\n",
    "# Define coordinates for SpaceX launch sites\n",
    "launch_sites = {\n",
    "    \"CCAFS LC-40\": [28.5623, -80.5774],\n",
    "    \"VAFB SLC-4E\": [34.6328, -120.6108],\n",
    "    \"KSC LC-39A\": [28.5721, -80.6480],\n",
    "    \"CCAFS SLC-40\": [28.5619, -80.5774]\n",
    "}\n",
    "\n",
    "# Create base map\n",
    "map_spacex = folium.Map(location=[30, -95], zoom_start=4)\n",
    "\n",
    "# Add markers for launch sites\n",
    "for site, coords in launch_sites.items():\n",
    "    folium.Marker(location=coords, popup=site, icon=folium.Icon(color=\"blue\")).add_to(map_spacex)\n",
    "\n",
    "# Save map\n",
    "map_spacex.save(\"spacex_launch_sites.html\")\n",
    "map_spacex\n"
   ]
  },
  {
   "cell_type": "code",
   "execution_count": null,
   "id": "36678ab9-19ab-4ed1-9825-e4e63227bc84",
   "metadata": {},
   "outputs": [],
   "source": [
    "import folium\n",
    "from folium.plugins import MarkerCluster\n",
    "\n",
    "# Define a function to assign colors based on success or failure\n",
    "def assign_color(outcome):\n",
    "    if outcome:  # If success == True\n",
    "        return 'green'\n",
    "    else:  # If success == False\n",
    "        return 'red'\n",
    "\n",
    "# Create a base map centered around a relevant location\n",
    "map_spacex = folium.Map(location=[28.5634, -80.5768], zoom_start=5)\n",
    "\n",
    "# Create a Marker Cluster (optional, helps when many points exist)\n",
    "marker_cluster = MarkerCluster().add_to(map_spacex)\n",
    "\n",
    "# Loop through the dataset and add markers\n",
    "for index, row in df_launches.iterrows():\n",
    "    folium.Marker(\n",
    "        location=[row[\"latitude\"], row[\"longitude\"]],  # Ensure these columns exist\n",
    "        popup=f\"Launch Site: {row['launchpad']}\\nOutcome: {'Success' if row['success'] else 'Failure'}\",\n",
    "        icon=folium.Icon(color=assign_color(row[\"success\"]), icon=\"rocket\")\n",
    "    ).add_to(marker_cluster)\n",
    "\n",
    "# Save map\n",
    "map_spacex.save(\"spacex_launch_outcomes.html\")\n",
    "map_spacex\n"
   ]
  },
  {
   "cell_type": "code",
   "execution_count": null,
   "id": "87646cc7-31c3-422d-b7a4-f6d0f04968ca",
   "metadata": {},
   "outputs": [],
   "source": [
    "print(df_launches.columns)\n"
   ]
  },
  {
   "cell_type": "code",
   "execution_count": null,
   "id": "b76b8fd9-4fdd-422c-bf0b-909c59c2e421",
   "metadata": {},
   "outputs": [],
   "source": [
    "for col in df_launches.columns:\n",
    "    if \"lat\" in col.lower() or \"long\" in col.lower():\n",
    "        print(col)\n"
   ]
  },
  {
   "cell_type": "code",
   "execution_count": null,
   "id": "a1f04cc2-0f8b-4381-a089-4a6f259b79bc",
   "metadata": {},
   "outputs": [],
   "source": [
    "df_launches[\"Latitude\"] = 28.5623  # Example for CCAFS LC-40\n",
    "df_launches[\"Longitude\"] = -80.5774\n"
   ]
  },
  {
   "cell_type": "code",
   "execution_count": null,
   "id": "30075d3a-4b52-4e6c-8fcf-ca1b337dcfdf",
   "metadata": {},
   "outputs": [],
   "source": [
    "for index, row in df_launches.iterrows():\n",
    "    folium.Marker(\n",
    "        location=[row[\"Latitude\"], row[\"Longitude\"]],\n",
    "        popup=f\"Launch Site: {row['Launch Site']}\\nOutcome: {'Success' if row['Success'] else 'Failure'}\",\n",
    "        icon=folium.Icon(color=\"green\" if row[\"Success\"] else \"red\", icon=\"rocket\")\n",
    "    ).add_to(marker_cluster)\n"
   ]
  },
  {
   "cell_type": "code",
   "execution_count": null,
   "id": "41cca754-09e8-4b21-bc81-059b5c62768c",
   "metadata": {},
   "outputs": [],
   "source": [
    "# Create a mapping of launch sites to their latitude and longitude\n",
    "launch_site_coords = {\n",
    "    \"CCAFS LC-40\": (28.5623, -80.5774),\n",
    "    \"VAFB SLC-4E\": (34.6328, -120.6108),\n",
    "    \"KSC LC-39A\": (28.5721, -80.6480),\n",
    "    \"CCAFS SLC-40\": (28.5618, -80.5773)\n",
    "}\n",
    "\n",
    "# Map latitude and longitude to each launch site\n",
    "df_launches[\"Latitude\"] = df_launches[\"Launch Site\"].map(lambda x: launch_site_coords.get(x, (None, None))[0])\n",
    "df_launches[\"Longitude\"] = df_launches[\"Launch Site\"].map(lambda x: launch_site_coords.get(x, (None, None))[1])\n"
   ]
  },
  {
   "cell_type": "code",
   "execution_count": null,
   "id": "7e8a6e6e-3c0b-44cd-a7cb-663f67f2d092",
   "metadata": {},
   "outputs": [],
   "source": [
    "# Add markers for each launch site\n",
    "for index, row in df_launches.iterrows():\n",
    "    folium.Marker(\n",
    "        location=[row[\"Latitude\"], row[\"Longitude\"]],\n",
    "        popup=f\"Launch Site: {row['Launch Site']}\\nOutcome: {'Success' if row['Success'] else 'Failure'}\",\n",
    "        icon=folium.Icon(color=\"green\" if row[\"Success\"] else \"red\", icon=\"rocket\")\n",
    "    ).add_to(marker_cluster)\n"
   ]
  },
  {
   "cell_type": "code",
   "execution_count": null,
   "id": "70e5e123-1a37-4b2d-9a1c-78d2d487d1e4",
   "metadata": {},
   "outputs": [],
   "source": [
    "print(df_launches[[\"Launch Site\", \"Latitude\", \"Longitude\"]].isnull().sum())\n"
   ]
  },
  {
   "cell_type": "code",
   "execution_count": null,
   "id": "59b8a032-abe6-4f50-958b-e0cdc1c2d8aa",
   "metadata": {},
   "outputs": [],
   "source": [
    "df_missing_coords = df_launches[df_launches[\"Latitude\"].isnull() | df_launches[\"Longitude\"].isnull()]\n",
    "print(df_missing_coords[[\"Launch Site\", \"Latitude\", \"Longitude\"]])\n"
   ]
  },
  {
   "cell_type": "code",
   "execution_count": null,
   "id": "d97a32f2-5b11-4354-88ab-041728771fbf",
   "metadata": {},
   "outputs": [],
   "source": [
    "launch_site_coords = {\n",
    "    \"CCAFS LC-40\": (28.5623, -80.5774),\n",
    "    \"VAFB SLC-4E\": (34.6321, -120.6106),\n",
    "    \"KSC LC-39A\": (28.5721, -80.6480),\n",
    "    \"CCAFS SLC-40\": (28.5619, -80.5773),\n",
    "}\n",
    "\n",
    "# Fill missing values\n",
    "for site, coords in launch_site_coords.items():\n",
    "    df_launches.loc[df_launches[\"Launch Site\"] == site, [\"Latitude\", \"Longitude\"]] = coords\n"
   ]
  },
  {
   "cell_type": "code",
   "execution_count": null,
   "id": "f1482a23-9aed-4b8e-b203-244667d32c84",
   "metadata": {},
   "outputs": [],
   "source": [
    "print(df_launches[\"Launch Site\"].unique())\n"
   ]
  },
  {
   "cell_type": "code",
   "execution_count": null,
   "id": "22679547-1cba-4eb5-a37b-345ae051f306",
   "metadata": {},
   "outputs": [],
   "source": [
    "launch_site_coords = {\n",
    "    \"CCAFS LC-40\": (28.5623, -80.5774),\n",
    "    \"VAFB SLC-4E\": (34.6321, -120.6106),\n",
    "    \"KSC LC-39A\": (28.5721, -80.6480),\n",
    "    \"CCAFS SLC-40\": (28.5619, -80.5773),\n",
    "}\n"
   ]
  },
  {
   "cell_type": "code",
   "execution_count": null,
   "id": "7a129cb1-7562-4e21-a7ee-5a4dd3eec4ea",
   "metadata": {},
   "outputs": [],
   "source": [
    "launch_site_mapping = {\n",
    "    \"5e9e4502f5090995de566f86\": \"CCAFS LC-40\",\n",
    "    \"5e9e4501f509094ba4566f84\": \"VAFB SLC-4E\",\n",
    "    \"5e9e4502f509092b78566f87\": \"KSC LC-39A\",\n",
    "    \"5e9e4502f509094188566f88\": \"CCAFS SLC-40\"\n",
    "}\n",
    "\n",
    "df_launches[\"Launch Site\"] = df_launches[\"Launch Site\"].replace(launch_site_mapping)\n"
   ]
  },
  {
   "cell_type": "code",
   "execution_count": null,
   "id": "83fab943-439f-404f-8031-ae6bcbf32480",
   "metadata": {},
   "outputs": [],
   "source": [
    "launch_site_coords = {\n",
    "    \"CCAFS LC-40\": (28.5623, -80.5774),\n",
    "    \"VAFB SLC-4E\": (34.6321, -120.6106),\n",
    "    \"KSC LC-39A\": (28.5721, -80.6480),\n",
    "    \"CCAFS SLC-40\": (28.5619, -80.5773),\n",
    "}\n",
    "\n",
    "for site, coords in launch_site_coords.items():\n",
    "    df_launches.loc[df_launches[\"Launch Site\"] == site, [\"Latitude\", \"Longitude\"]] = coords\n"
   ]
  },
  {
   "cell_type": "code",
   "execution_count": null,
   "id": "ae5d768d-e2cc-4dbe-9716-0f7d520f32f2",
   "metadata": {},
   "outputs": [],
   "source": [
    "print(df_launches[[\"Launch Site\", \"Latitude\", \"Longitude\"]].isnull().sum())\n"
   ]
  },
  {
   "cell_type": "code",
   "execution_count": null,
   "id": "860e6e45-1d75-41cd-95fe-10b53f43eae0",
   "metadata": {},
   "outputs": [],
   "source": [
    "import folium\n",
    "\n",
    "# Initialize map centered at an average location\n",
    "map_spacex = folium.Map(location=[28.5623, -80.5774], zoom_start=4)\n",
    "\n",
    "# Add markers for each launch site\n",
    "for index, row in df_launches.iterrows():\n",
    "    folium.Marker(\n",
    "        location=[row[\"Latitude\"], row[\"Longitude\"]],\n",
    "        popup=f\"Launch Site: {row['Launch Site']}\\nOutcome: {'Success' if row['Success'] else 'Failure'}\",\n",
    "        icon=folium.Icon(color=\"green\" if row[\"Success\"] else \"red\", icon=\"rocket\"),\n",
    "    ).add_to(map_spacex)\n",
    "\n",
    "# Save and display the map\n",
    "map_spacex.save(\"spacex_launch_sites.html\")\n",
    "map_spacex\n"
   ]
  },
  {
   "cell_type": "code",
   "execution_count": null,
   "id": "3727471e-c0d6-4df5-9f4b-db1cb61b9013",
   "metadata": {},
   "outputs": [],
   "source": [
    "icon_color = \"green\" if row[\"Success\"] else \"red\"\n",
    "folium.Marker(\n",
    "    location=[row[\"Latitude\"], row[\"Longitude\"]],\n",
    "    popup=f\"Launch Site: {row['Launch Site']}<br>Outcome: {'Success' if row['Success'] else 'Failure'}\",\n",
    "    icon=folium.Icon(color=icon_color, icon=\"rocket\"),\n",
    ").add_to(marker_cluster)\n"
   ]
  },
  {
   "cell_type": "code",
   "execution_count": null,
   "id": "c6fe1da8-04f5-437a-b478-bf5cb8e599ee",
   "metadata": {},
   "outputs": [],
   "source": [
    "print(df_launches[\"Success\"].value_counts())\n"
   ]
  },
  {
   "cell_type": "code",
   "execution_count": null,
   "id": "360ebd7b-421f-46e7-92cf-4a3871dc3bae",
   "metadata": {},
   "outputs": [],
   "source": [
    "print(df_launches.dtypes)\n"
   ]
  },
  {
   "cell_type": "code",
   "execution_count": null,
   "id": "be3a33bd-68a9-424e-9926-a2bf48c9d548",
   "metadata": {},
   "outputs": [],
   "source": [
    "df_launches[\"Latitude\"] = df_launches[\"Latitude\"].astype(float)\n",
    "df_launches[\"Longitude\"] = df_launches[\"Longitude\"].astype(float)\n"
   ]
  },
  {
   "cell_type": "code",
   "execution_count": null,
   "id": "57b4f1b1-b0c0-49c0-8c2b-5c7703a1ad59",
   "metadata": {},
   "outputs": [],
   "source": [
    "import folium\n",
    "from folium.plugins import MarkerCluster\n",
    "\n",
    "# Create a folium map centered at an approximate location\n",
    "map_spacex = folium.Map(location=[28.5721, -80.6480], zoom_start=5)\n",
    "\n",
    "# Create a marker cluster\n",
    "marker_cluster = MarkerCluster().add_to(map_spacex)\n",
    "\n",
    "# Loop through the dataset and add markers\n",
    "for index, row in df_launches.iterrows():\n",
    "    icon_color = \"green\" if row[\"Success\"] else \"red\"  # Green = success, Red = failure\n",
    "    \n",
    "    folium.Marker(\n",
    "        location=[row[\"Latitude\"], row[\"Longitude\"]],\n",
    "        popup=f\"Launch Site: {row['Launch Site']}<br>Outcome: {'Success' if row['Success'] else 'Failure'}\",\n",
    "        icon=folium.Icon(color=icon_color, icon=\"rocket\")\n",
    "    ).add_to(marker_cluster)\n",
    "\n",
    "# Save the map to an HTML file (optional)\n",
    "map_spacex.save(\"spacex_launch_sites.html\")\n",
    "\n",
    "# Display the map\n",
    "map_spacex\n"
   ]
  },
  {
   "cell_type": "code",
   "execution_count": null,
   "id": "7e2198a4-a670-4b8e-b315-e702a2df0dba",
   "metadata": {},
   "outputs": [],
   "source": [
    "import folium\n",
    "from folium.plugins import MarkerCluster\n",
    "\n",
    "# Create a folium map centered around a launch site\n",
    "map_spacex = folium.Map(location=[28.5721, -80.6480], zoom_start=5)\n",
    "\n",
    "# Create a marker cluster\n",
    "marker_cluster = MarkerCluster().add_to(map_spacex)\n",
    "\n",
    "# Loop through dataset & add color-coded markers\n",
    "for index, row in df_launches.iterrows():\n",
    "    icon_color = \"green\" if row[\"Success\"] else \"red\"  # Green = success, Red = failure\n",
    "    \n",
    "    folium.Marker(\n",
    "        location=[row[\"Latitude\"], row[\"Longitude\"]],\n",
    "        popup=f\"Launch Site: {row['Launch Site']}<br>Outcome: {'Success' if row['Success'] else 'Failure'}\",\n",
    "        icon=folium.Icon(color=icon_color, icon=\"rocket\")\n",
    "    ).add_to(marker_cluster)\n",
    "\n",
    "# Save map (optional)\n",
    "map_spacex.save(\"spacex_launch_sites.html\")\n",
    "\n",
    "# Display map\n",
    "map_spacex\n"
   ]
  },
  {
   "cell_type": "code",
   "execution_count": null,
   "id": "b619ad2d-c0ba-48d1-a932-e9c7b302f10c",
   "metadata": {},
   "outputs": [],
   "source": [
    "import folium\n",
    "\n",
    "# Create a Folium map centered around a launch site\n",
    "map_spacex = folium.Map(location=[28.5721, -80.6480], zoom_start=5)\n",
    "\n",
    "# Loop through dataset & add color-coded markers\n",
    "for index, row in df_launches.iterrows():\n",
    "    icon_color = \"green\" if row[\"Success\"] else \"red\"  # Green = success, Red = failure\n",
    "    \n",
    "    folium.Marker(\n",
    "        location=[row[\"Latitude\"], row[\"Longitude\"]],\n",
    "        popup=f\"Launch Site: {row['Launch Site']}<br>Outcome: {'Success' if row['Success'] else 'Failure'}\",\n",
    "        icon=folium.Icon(color=icon_color, icon=\"rocket\")\n",
    "    ).add_to(map_spacex)\n",
    "\n",
    "# Save map (optional)\n",
    "map_spacex.save(\"spacex_launch_sites.html\")\n",
    "\n",
    "# Display map\n",
    "map_spacex\n"
   ]
  },
  {
   "cell_type": "code",
   "execution_count": null,
   "id": "322fcf84-519a-442e-b7e9-3e9593f5fffe",
   "metadata": {},
   "outputs": [],
   "source": [
    "print(df_launches[\"Success\"].value_counts())\n"
   ]
  },
  {
   "cell_type": "code",
   "execution_count": null,
   "id": "2e180da8-3f64-4d5d-9431-86098bdddbfa",
   "metadata": {},
   "outputs": [],
   "source": [
    "import folium\n",
    "\n",
    "# Create map\n",
    "map_spacex = folium.Map(location=[28.5721, -80.6480], zoom_start=5)\n",
    "\n",
    "# Loop through dataset & add color-coded markers\n",
    "for index, row in df_launches.iterrows():\n",
    "    icon_color = \"green\" if row[\"Success\"] else \"red\"  # Green = success, Red = failure\n",
    "    \n",
    "    folium.Marker(\n",
    "        location=[row[\"Latitude\"], row[\"Longitude\"]],\n",
    "        popup=f\"Launch Site: {row['Launch Site']}<br>Outcome: {'Success' if row['Success'] else 'Failure'}\",\n",
    "        icon=folium.Icon(color=icon_color, icon=\"rocket\")\n",
    "    ).add_to(map_spacex)\n",
    "\n",
    "# Save map (optional)\n",
    "map_spacex.save(\"spacex_launch_sites.html\")\n",
    "\n",
    "# Display map\n",
    "map_spacex\n"
   ]
  },
  {
   "cell_type": "code",
   "execution_count": null,
   "id": "fc0af2f9-e5a5-481e-857f-bbf15de11004",
   "metadata": {},
   "outputs": [],
   "source": [
    "!pip install geopy folium\n"
   ]
  },
  {
   "cell_type": "code",
   "execution_count": null,
   "id": "aeaad201-dc5f-46d0-b1cf-2b9a0c7b47e3",
   "metadata": {},
   "outputs": [],
   "source": [
    "import folium\n",
    "from folium import Marker\n",
    "from geopy.distance import geodesic\n"
   ]
  },
  {
   "cell_type": "code",
   "execution_count": null,
   "id": "6b3d1f42-d50c-4987-8d48-70b26ef3f2fd",
   "metadata": {},
   "outputs": [],
   "source": [
    "# Define launch site coordinates\n",
    "launch_site = {\n",
    "    \"CCAFS LC-40\": (28.5623, -80.5774)  # Example for Cape Canaveral\n",
    "}\n",
    "\n",
    "# Define nearby features (latitude, longitude)\n",
    "nearby_places = {\n",
    "    \"Highway\": (28.5634, -80.5708),\n",
    "    \"Railway\": (28.5721, -80.5852),\n",
    "    \"Coastline\": (28.5648, -80.5670)\n",
    "}\n"
   ]
  },
  {
   "cell_type": "code",
   "execution_count": null,
   "id": "aee0fc15-4001-4924-ae13-d447740f6022",
   "metadata": {},
   "outputs": [],
   "source": [
    "# Create a map centered at the launch site\n",
    "map_proximity = folium.Map(location=launch_site[\"CCAFS LC-40\"], zoom_start=14)\n",
    "\n",
    "# Add launch site marker\n",
    "folium.Marker(\n",
    "    location=launch_site[\"CCAFS LC-40\"],\n",
    "    popup=\"CCAFS LC-40 (Launch Site)\",\n",
    "    icon=folium.Icon(color=\"blue\", icon=\"rocket\")\n",
    ").add_to(map_proximity)\n"
   ]
  },
  {
   "cell_type": "code",
   "execution_count": null,
   "id": "d49b6e91-09e1-4297-95c9-d9d1a1fd0013",
   "metadata": {},
   "outputs": [],
   "source": [
    "for place, coords in nearby_places.items():\n",
    "    # Calculate distance from launch site\n",
    "    distance = geodesic(launch_site[\"CCAFS LC-40\"], coords).km\n",
    "    \n",
    "    # Add a marker with the distance info\n",
    "    folium.Marker(\n",
    "        location=coords,\n",
    "        popup=f\"{place}: {distance:.2f} km\",\n",
    "        icon=folium.Icon(color=\"red\", icon=\"info-sign\")\n",
    "    ).add_to(map_proximity)\n",
    "    \n",
    "    # Draw a line from the launch site to the place\n",
    "    folium.PolyLine([launch_site[\"CCAFS LC-40\"], coords], color=\"red\", weight=2).add_to(map_proximity)\n"
   ]
  },
  {
   "cell_type": "code",
   "execution_count": null,
   "id": "59acccb9-827e-4d28-ad90-d9673ba2f810",
   "metadata": {},
   "outputs": [],
   "source": [
    "map_proximity\n",
    "# Save as an HTML file\n",
    "map_proximity.save(\"launch_site_proximity.html\")\n"
   ]
  },
  {
   "cell_type": "code",
   "execution_count": null,
   "id": "5ddc2ff5-ed0f-4c7e-85a0-01e153be083b",
   "metadata": {},
   "outputs": [],
   "source": [
    "map_proximity\n"
   ]
  },
  {
   "cell_type": "code",
   "execution_count": null,
   "id": "43e42733-b3b1-4655-9458-a1a754efa163",
   "metadata": {},
   "outputs": [],
   "source": [
    "import dash\n",
    "from dash import dcc, html\n",
    "import plotly.express as px\n",
    "import pandas as pd\n",
    "from dash.dependencies import Input, Output\n"
   ]
  },
  {
   "cell_type": "code",
   "execution_count": null,
   "id": "25c3cc86-766b-49cf-b09d-b3eb7c314690",
   "metadata": {},
   "outputs": [],
   "source": [
    "# Sample Data (Use your actual dataset)\n",
    "data = {\n",
    "    \"Launch Site\": [\"CCAFS LC-40\", \"VAFB SLC-4E\", \"KSC LC-39A\", \"CCAFS SLC-40\"],\n",
    "    \"Success Count\": [50, 30, 40, 45]\n",
    "}\n",
    "df = pd.DataFrame(data)\n"
   ]
  },
  {
   "cell_type": "code",
   "execution_count": null,
   "id": "3c591a2c-5695-49f0-acd9-406d19c0dbae",
   "metadata": {},
   "outputs": [],
   "source": [
    "fig = px.pie(df, names=\"Launch Site\", values=\"Success Count\",\n",
    "             title=\"Launch Success Count for All Sites\",\n",
    "             color_discrete_sequence=px.colors.qualitative.Pastel)\n"
   ]
  },
  {
   "cell_type": "code",
   "execution_count": null,
   "id": "a41b8e12-2c62-4089-a218-771169a43529",
   "metadata": {},
   "outputs": [],
   "source": [
    "app = dash.Dash(__name__)\n",
    "\n",
    "app.layout = html.Div([\n",
    "    html.H1(\"SpaceX Launch Dashboard\", style={'textAlign': 'center'}),\n",
    "    \n",
    "    dcc.Graph(\n",
    "        id=\"launch-success-pie\",\n",
    "        figure=fig  # Display the pie chart\n",
    "    )\n",
    "])\n"
   ]
  },
  {
   "cell_type": "code",
   "execution_count": null,
   "id": "f207e2f1-29ee-4909-865a-f143909ae3ce",
   "metadata": {},
   "outputs": [],
   "source": [
    "if __name__ == '__main__':\n",
    "    app.run_server(debug=True)\n"
   ]
  },
  {
   "cell_type": "code",
   "execution_count": null,
   "id": "14c80bfa-1d7c-4b03-875b-f608cef691fd",
   "metadata": {},
   "outputs": [],
   "source": [
    "import pandas as pd\n",
    "import plotly.express as px\n",
    "\n",
    "# Sample data: Launch success count for each site\n",
    "data = {\n",
    "    \"Launch Site\": [\"CCAFS LC-40\", \"VAFB SLC-4E\", \"KSC LC-39A\", \"CCAFS SLC-40\"],\n",
    "    \"Success Count\": [85, 20, 50, 26]\n",
    "}\n",
    "\n",
    "# Convert data into DataFrame\n",
    "df = pd.DataFrame(data)\n",
    "\n",
    "# Create a Pie Chart\n",
    "fig = px.pie(df, \n",
    "             names=\"Launch Site\", \n",
    "             values=\"Success Count\", \n",
    "             title=\"Launch Success Distribution Across Sites\",\n",
    "             color_discrete_sequence=px.colors.qualitative.Set3)\n",
    "\n",
    "# Show the chart\n",
    "fig.show()\n"
   ]
  },
  {
   "cell_type": "code",
   "execution_count": null,
   "id": "139f858a-6749-4211-acf2-f7ab9e2371fc",
   "metadata": {},
   "outputs": [],
   "source": [
    "import pandas as pd\n",
    "import plotly.express as px\n",
    "import dash\n",
    "import dash_core_components as dcc\n",
    "import dash_html_components as html\n",
    "from dash.dependencies import Input, Output\n",
    "\n",
    "# Sample Data: Payload mass (kg) and launch outcomes\n",
    "df = pd.DataFrame({\n",
    "    \"Payload Mass (kg)\": [500, 1500, 2500, 3500, 4500, 5500, 6500, 7500],\n",
    "    \"Launch Outcome\": [\"Success\", \"Failure\", \"Success\", \"Success\", \"Failure\", \"Success\", \"Failure\", \"Success\"],\n",
    "    \"Booster Version\": [\"F9 v1.1\", \"F9 v1.1\", \"F9 FT\", \"F9 FT\", \"F9 Block 5\", \"F9 Block 5\", \"F9 Block 5\", \"F9 Block 5\"]\n",
    "})\n",
    "\n",
    "# Initialize Dash app\n",
    "app = dash.Dash(__name__)\n",
    "\n",
    "app.layout = html.Div(children=[\n",
    "    html.H1(\"Payload vs. Launch Outcome\"),\n",
    "    \n",
    "    # Add range slider for selecting payload mass\n",
    "    dcc.RangeSlider(\n",
    "        id='payload-slider',\n",
    "        min=df[\"Payload Mass (kg)\"].min(),\n",
    "        max=df[\"Payload Mass (kg)\"].max(),\n",
    "        step=100,\n",
    "        marks={i: str(i) for i in range(500, 8000, 1000)},\n",
    "        value=[df[\"Payload Mass (kg)\"].min(), df[\"Payload Mass (kg)\"].max()]\n",
    "    ),\n",
    "    \n",
    "    # Scatter plot\n",
    "    dcc.Graph(id='scatter-plot')\n",
    "])\n",
    "\n",
    "# Callback to update scatter plot based on slider input\n",
    "@app.callback(\n",
    "    Output('scatter-plot', 'figure'),\n",
    "    [Input('payload-slider', 'value')]\n",
    ")\n",
    "def update_graph(payload_range):\n",
    "    filtered_df = df[(df[\"Payload Mass (kg)\"] >= payload_range[0]) & (df[\"Payload Mass (kg)\"] <= payload_range[1])]\n",
    "    \n",
    "    fig = px.scatter(filtered_df, \n",
    "                     x=\"Payload Mass (kg)\", \n",
    "                     y=\"Launch Outcome\", \n",
    "                     color=\"Booster Version\",\n",
    "                     title=\"Payload Mass vs. Launch Outcome\",\n",
    "                     symbol=\"Launch Outcome\",\n",
    "                     size_max=15)\n",
    "\n",
    "    return fig\n",
    "\n",
    "# Run the Dash app\n",
    "if __name__ == '__main__':\n",
    "    app.run_server(debug=True)\n"
   ]
  },
  {
   "cell_type": "code",
   "execution_count": null,
   "id": "85dbfa65-510e-41b1-bc9d-baab5acf77b7",
   "metadata": {},
   "outputs": [],
   "source": [
    "import pandas as pd\n",
    "import plotly.express as px\n",
    "\n",
    "# Sample classification accuracy data\n",
    "data = {\n",
    "    \"Model\": [\"Logistic Regression\", \"SVM\", \"Decision Tree\", \"Random Forest\", \"Neural Network\"],\n",
    "    \"Accuracy (%)\": [85, 88, 80, 92, 90]  # Accuracy in percentage\n",
    "}\n",
    "\n",
    "# Create DataFrame\n",
    "df = pd.DataFrame(data)\n",
    "\n",
    "# Create a bar chart\n",
    "fig = px.bar(df, \n",
    "             x=\"Model\", \n",
    "             y=\"Accuracy (%)\", \n",
    "             title=\"Classification Model Accuracy\",\n",
    "             color=\"Model\", \n",
    "             text=\"Accuracy (%)\")\n",
    "\n",
    "# Display the figure\n",
    "fig.show()\n"
   ]
  },
  {
   "cell_type": "code",
   "execution_count": null,
   "id": "e035e5ca-2fae-4036-82b9-e972a16a035d",
   "metadata": {},
   "outputs": [],
   "source": [
    "from sklearn.metrics import confusion_matrix, ConfusionMatrixDisplay\n",
    "import matplotlib.pyplot as plt\n",
    "\n",
    "# Assuming y_test contains actual labels and y_pred_rf contains predictions from the Random Forest model\n",
    "cm = confusion_matrix(y_test, y_pred_rf)\n",
    "\n",
    "# Display the confusion matrix\n",
    "disp = ConfusionMatrixDisplay(confusion_matrix=cm)\n",
    "disp.plot(cmap=plt.cm.Blues)\n",
    "plt.title(\"Confusion Matrix for Random Forest Model\")\n",
    "plt.show()\n"
   ]
  },
  {
   "cell_type": "code",
   "execution_count": null,
   "id": "68bac902-30a5-49c4-89ea-47e82b074693",
   "metadata": {},
   "outputs": [],
   "source": [
    "from sklearn.model_selection import train_test_split\n",
    "from sklearn.ensemble import RandomForestClassifier\n",
    "from sklearn.metrics import confusion_matrix, ConfusionMatrixDisplay\n",
    "import matplotlib.pyplot as plt\n",
    "\n",
    "# Assuming df is your dataset with features and target column 'Success'\n",
    "X = df.drop(columns=['Success'])  # Features\n",
    "y = df['Success']  # Target variable\n",
    "\n",
    "# Split the dataset into training and testing sets\n",
    "X_train, X_test, y_train, y_test = train_test_split(X, y, test_size=0.2, random_state=42)\n",
    "\n",
    "# Train the Random Forest model\n",
    "rf_model = RandomForestClassifier(n_estimators=100, random_state=42)\n",
    "rf_model.fit(X_train, y_train)\n",
    "\n",
    "# Make predictions on the test set\n",
    "y_pred_rf = rf_model.predict(X_test)\n",
    "\n",
    "# Generate the confusion matrix\n",
    "cm = confusion_matrix(y_test, y_pred_rf)\n",
    "\n",
    "# Display the confusion matrix\n",
    "disp = ConfusionMatrixDisplay(confusion_matrix=cm)\n",
    "disp.plot(cmap=plt.cm.Blues)\n",
    "plt.title(\"Confusion Matrix for Random Forest Model\")\n",
    "plt.show()\n"
   ]
  },
  {
   "cell_type": "code",
   "execution_count": null,
   "id": "c4ae7701-1fee-43db-84cd-8f0a321d1375",
   "metadata": {},
   "outputs": [],
   "source": [
    "plt.show()\n"
   ]
  },
  {
   "cell_type": "code",
   "execution_count": null,
   "id": "c4f82c2d-7295-4f80-beda-52501c88585d",
   "metadata": {},
   "outputs": [],
   "source": [
    "print(df.head())  # Check the first few rows\n",
    "print(df.columns)  # Verify column names\n"
   ]
  },
  {
   "cell_type": "code",
   "execution_count": null,
   "id": "98391896-b03f-483c-9d05-79dc0d5d5f62",
   "metadata": {},
   "outputs": [],
   "source": [
    "print(y_test[:5])  # Show first 5 actual labels\n",
    "print(y_pred_rf[:5])  # Show first 5 predicted labels\n"
   ]
  },
  {
   "cell_type": "code",
   "execution_count": null,
   "id": "add92706-fa8b-4dac-84cc-746f3b4bcc56",
   "metadata": {},
   "outputs": [],
   "source": [
    "from sklearn.model_selection import train_test_split\n",
    "\n",
    "# Assuming X contains features and y contains labels\n",
    "X_train, X_test, y_train, y_test = train_test_split(X, y, test_size=0.2, random_state=42)\n"
   ]
  },
  {
   "cell_type": "code",
   "execution_count": null,
   "id": "4e3ad03d-737b-49fe-9c76-d299ee3d0214",
   "metadata": {},
   "outputs": [],
   "source": [
    "# Define features (X) and target variable (y)\n",
    "X = df.drop(columns=[\"Success\"])  # Remove the target column to keep only features\n",
    "y = df[\"Success\"]  # Target variable (1 = Success, 0 = Failure)\n"
   ]
  },
  {
   "cell_type": "code",
   "execution_count": null,
   "id": "c910bdb8-0420-4331-a0b3-df95ca8725ed",
   "metadata": {},
   "outputs": [],
   "source": [
    "print(df.head())  # Show the first 5 rows\n",
    "print(df.columns)  # Show all column names\n"
   ]
  },
  {
   "cell_type": "code",
   "execution_count": null,
   "id": "05394b96-32ff-4614-b260-c9615b9117e6",
   "metadata": {},
   "outputs": [],
   "source": [
    "# Ensure the target column is named correctly\n",
    "target_column = \"Success\"  # Change this if your column name is different\n",
    "\n",
    "# Define features (X) and target variable (y)\n",
    "X = df.drop(columns=[target_column])  # Features (all columns except target)\n",
    "y = df[target_column]  # Target variable (1 = Success, 0 = Failure)\n"
   ]
  },
  {
   "cell_type": "code",
   "execution_count": null,
   "id": "a7e9284d-9668-46cc-a5f3-a46de6ab2608",
   "metadata": {},
   "outputs": [],
   "source": [
    "import plotly.express as px\n",
    "\n",
    "# Sample Data (Replace with actual launch data)\n",
    "data = {'Launch Site': ['CCAFS LC-40', 'VAFB SLC-4E', 'KSC LC-39A', 'CCAFS SLC-40'],\n",
    "        'Success Count': [80, 30, 60, 70]}\n",
    "\n",
    "df = pd.DataFrame(data)\n",
    "\n",
    "# Create Pie Chart\n",
    "fig = px.pie(df, names='Launch Site', values='Success Count', title=\"Launch Success Distribution\")\n",
    "fig.show()\n"
   ]
  },
  {
   "cell_type": "code",
   "execution_count": null,
   "id": "acdd00ff-80eb-4bc8-9cf8-79d9e379f65f",
   "metadata": {},
   "outputs": [],
   "source": [
    "import plotly.express as px\n",
    "import pandas as pd\n",
    "\n",
    "# Sample Model Accuracy Data\n",
    "data = {'Model': ['Logistic Regression', 'SVM', 'Decision Tree', 'Random Forest', 'Neural Network'],\n",
    "        'Accuracy (%)': [85, 88, 80, 92, 90]}\n",
    "\n",
    "df = pd.DataFrame(data)\n",
    "\n",
    "# Create Bar Chart\n",
    "fig = px.bar(df, x=\"Model\", y=\"Accuracy (%)\", title=\"Classification Model Accuracy\",\n",
    "             color=\"Model\", text=\"Accuracy (%)\")\n",
    "fig.show()\n"
   ]
  },
  {
   "cell_type": "code",
   "execution_count": null,
   "id": "0737c733-3b12-46a6-9a8b-67ac43b296f5",
   "metadata": {},
   "outputs": [],
   "source": []
  }
 ],
 "metadata": {
  "kernelspec": {
   "display_name": "Python [conda env:base] *",
   "language": "python",
   "name": "conda-base-py"
  },
  "language_info": {
   "codemirror_mode": {
    "name": "ipython",
    "version": 3
   },
   "file_extension": ".py",
   "mimetype": "text/x-python",
   "name": "python",
   "nbconvert_exporter": "python",
   "pygments_lexer": "ipython3",
   "version": "3.12.2"
  }
 },
 "nbformat": 4,
 "nbformat_minor": 5
}
